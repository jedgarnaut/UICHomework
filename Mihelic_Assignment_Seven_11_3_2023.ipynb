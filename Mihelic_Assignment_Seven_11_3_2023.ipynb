{
  "cells": [
    {
      "cell_type": "markdown",
      "metadata": {
        "id": "view-in-github",
        "colab_type": "text"
      },
      "source": [
        "<a href=\"https://colab.research.google.com/github/jedgarnaut/UICHomework/blob/main/Mihelic_Assignment_Seven_11_3_2023.ipynb\" target=\"_parent\"><img src=\"https://colab.research.google.com/assets/colab-badge.svg\" alt=\"Open In Colab\"/></a>"
      ]
    },
    {
      "cell_type": "code",
      "execution_count": null,
      "metadata": {
        "colab": {
          "base_uri": "https://localhost:8080/",
          "height": 70
        },
        "id": "4bSvBEu_oIQU",
        "outputId": "6363fe8e-1664-41f5-88d4-f5ce94ec4ba8"
      },
      "outputs": [
        {
          "data": {
            "text/plain": [
              "'\\n\\nstarted in colab but hit the wall on computing time\\n\\n#from google.colab import drive\\ndrive.mount(\"/content/drive/\", force_remount=True)\\n\\nimport os\\nos.getcwd()\\n\\n#!ls \"/content/drive/My Drive/IDS400\" #it was too dang hard to get here.\\n\\n\\nos.chdir(\"/content/drive/My Drive/IDS400\")\\n\\n\\nos.getcwd()\\n\\n#need bank.csv\\n\\n# here\\'s the details for the data set  https://archive.ics.uci.edu/dataset/222/bank+marketing\\n\\nRunning back through to standardize models\\n'"
            ]
          },
          "execution_count": 1,
          "metadata": {},
          "output_type": "execute_result"
        }
      ],
      "source": [
        "'''\n",
        "\n",
        "started in colab but hit the wall on computing time\n",
        "\n",
        "#from google.colab import drive\n",
        "drive.mount(\"/content/drive/\", force_remount=True)\n",
        "\n",
        "import os\n",
        "os.getcwd()\n",
        "\n",
        "#!ls \"/content/drive/My Drive/IDS400\" #it was too dang hard to get here.\n",
        "\n",
        "\n",
        "os.chdir(\"/content/drive/My Drive/IDS400\")\n",
        "\n",
        "\n",
        "os.getcwd()\n",
        "\n",
        "#need bank.csv\n",
        "\n",
        "# here's the details for the data set  https://archive.ics.uci.edu/dataset/222/bank+marketing\n",
        "\n",
        "Running back through to standardize models\n",
        "'''"
      ]
    },
    {
      "cell_type": "code",
      "execution_count": null,
      "metadata": {
        "id": "juNmrkOdqyZd"
      },
      "outputs": [],
      "source": [
        "#Step one: download and clean up\n",
        "\n",
        "fh = open(\"bank.csv\", \"r\")\n",
        "#for line in fh:\n",
        "#  print(line)"
      ]
    },
    {
      "cell_type": "code",
      "execution_count": null,
      "metadata": {
        "colab": {
          "base_uri": "https://localhost:8080/"
        },
        "id": "uaa2oEl6stee",
        "outputId": "50af7d55-9f28-473e-a461-0070edd37c19"
      },
      "outputs": [
        {
          "data": {
            "text/plain": [
              "_io.TextIOWrapper"
            ]
          },
          "execution_count": 3,
          "metadata": {},
          "output_type": "execute_result"
        }
      ],
      "source": [
        "type(fh)"
      ]
    },
    {
      "cell_type": "code",
      "execution_count": null,
      "metadata": {
        "id": "c3NcV81rtD-S"
      },
      "outputs": [],
      "source": [
        "import pandas as pd\n",
        "bank = pd.Series(fh)"
      ]
    },
    {
      "cell_type": "code",
      "execution_count": null,
      "metadata": {
        "colab": {
          "base_uri": "https://localhost:8080/"
        },
        "id": "5btvCn1bt7zx",
        "outputId": "be65b0a5-1de4-44b0-fbab-b2f11a7b022a"
      },
      "outputs": [
        {
          "name": "stdout",
          "output_type": "stream",
          "text": [
            "0    \"age\";\"job\";\"marital\";\"education\";\"default\";\"b...\n",
            "1    30;\"unemployed\";\"married\";\"primary\";\"no\";1787;...\n",
            "2    33;\"services\";\"married\";\"secondary\";\"no\";4789;...\n",
            "3    35;\"management\";\"single\";\"tertiary\";\"no\";1350;...\n",
            "4    30;\"management\";\"married\";\"tertiary\";\"no\";1476...\n",
            "5    59;\"blue-collar\";\"married\";\"secondary\";\"no\";0;...\n",
            "6    35;\"management\";\"single\";\"tertiary\";\"no\";747;\"...\n",
            "7    36;\"self-employed\";\"married\";\"tertiary\";\"no\";3...\n",
            "8    39;\"technician\";\"married\";\"secondary\";\"no\";147...\n",
            "9    41;\"entrepreneur\";\"married\";\"tertiary\";\"no\";22...\n",
            "dtype: object\n"
          ]
        }
      ],
      "source": [
        "print(bank.head(10))"
      ]
    },
    {
      "cell_type": "code",
      "execution_count": null,
      "metadata": {
        "colab": {
          "base_uri": "https://localhost:8080/"
        },
        "id": "QNefL9z9t-1i",
        "outputId": "2618b573-12b2-493f-a361-ae728c329ae5"
      },
      "outputs": [
        {
          "data": {
            "text/plain": [
              "(4522,)"
            ]
          },
          "execution_count": 6,
          "metadata": {},
          "output_type": "execute_result"
        }
      ],
      "source": [
        "bank.shape ## just realized we had the semicolons!"
      ]
    },
    {
      "cell_type": "code",
      "execution_count": null,
      "metadata": {
        "id": "PDAVtQgJuRdx"
      },
      "outputs": [],
      "source": [
        "##import pandas as pd\n",
        "df = pd.read_csv(\"bank.csv\", sep= \";\")\n",
        "\n"
      ]
    },
    {
      "cell_type": "code",
      "execution_count": null,
      "metadata": {
        "colab": {
          "base_uri": "https://localhost:8080/"
        },
        "id": "jeS_2VIqu9co",
        "outputId": "f3b56b9d-25b0-441b-9c52-e2a76607bc0c"
      },
      "outputs": [
        {
          "name": "stdout",
          "output_type": "stream",
          "text": [
            "   age            job  marital  education default  balance housing loan  \\\n",
            "0   30     unemployed  married    primary      no     1787      no   no   \n",
            "1   33       services  married  secondary      no     4789     yes  yes   \n",
            "2   35     management   single   tertiary      no     1350     yes   no   \n",
            "3   30     management  married   tertiary      no     1476     yes  yes   \n",
            "4   59    blue-collar  married  secondary      no        0     yes   no   \n",
            "5   35     management   single   tertiary      no      747      no   no   \n",
            "6   36  self-employed  married   tertiary      no      307     yes   no   \n",
            "7   39     technician  married  secondary      no      147     yes   no   \n",
            "8   41   entrepreneur  married   tertiary      no      221     yes   no   \n",
            "9   43       services  married    primary      no      -88     yes  yes   \n",
            "\n",
            "    contact  day month  duration  campaign  pdays  previous poutcome   y  \n",
            "0  cellular   19   oct        79         1     -1         0  unknown  no  \n",
            "1  cellular   11   may       220         1    339         4  failure  no  \n",
            "2  cellular   16   apr       185         1    330         1  failure  no  \n",
            "3   unknown    3   jun       199         4     -1         0  unknown  no  \n",
            "4   unknown    5   may       226         1     -1         0  unknown  no  \n",
            "5  cellular   23   feb       141         2    176         3  failure  no  \n",
            "6  cellular   14   may       341         1    330         2    other  no  \n",
            "7  cellular    6   may       151         2     -1         0  unknown  no  \n",
            "8   unknown   14   may        57         2     -1         0  unknown  no  \n",
            "9  cellular   17   apr       313         1    147         2  failure  no  \n"
          ]
        }
      ],
      "source": [
        "print(df.head(10))"
      ]
    },
    {
      "cell_type": "code",
      "execution_count": null,
      "metadata": {
        "colab": {
          "base_uri": "https://localhost:8080/"
        },
        "id": "v5kI11dcvrsg",
        "outputId": "cd4d46a0-e842-4686-a080-97f91f0d653a"
      },
      "outputs": [
        {
          "data": {
            "text/plain": [
              "(4521, 17)"
            ]
          },
          "execution_count": 10,
          "metadata": {},
          "output_type": "execute_result"
        }
      ],
      "source": [
        "df.shape"
      ]
    },
    {
      "cell_type": "code",
      "execution_count": null,
      "metadata": {
        "id": "sg_UM45xvwEg"
      },
      "outputs": [],
      "source": [
        "## df2 = df[\"loan\"].replace([\"no\", \"yes\"],[0, 1]) ## this didn't work. Trying to clean this up."
      ]
    },
    {
      "cell_type": "code",
      "execution_count": null,
      "metadata": {
        "id": "8aMaJ-I_yCK-"
      },
      "outputs": [],
      "source": [
        "## print(df2.head(5))"
      ]
    },
    {
      "cell_type": "code",
      "execution_count": null,
      "metadata": {
        "id": "Z4QQz7W5yFjO"
      },
      "outputs": [],
      "source": [
        "## df2"
      ]
    },
    {
      "cell_type": "code",
      "execution_count": null,
      "metadata": {
        "colab": {
          "base_uri": "https://localhost:8080/",
          "height": 461
        },
        "id": "9nWevk1yyQCd",
        "outputId": "e011cfe0-7213-40c3-e7ec-198c5a27e89a"
      },
      "outputs": [
        {
          "data": {
            "text/html": [
              "<div>\n",
              "<style scoped>\n",
              "    .dataframe tbody tr th:only-of-type {\n",
              "        vertical-align: middle;\n",
              "    }\n",
              "\n",
              "    .dataframe tbody tr th {\n",
              "        vertical-align: top;\n",
              "    }\n",
              "\n",
              "    .dataframe thead th {\n",
              "        text-align: right;\n",
              "    }\n",
              "</style>\n",
              "<table border=\"1\" class=\"dataframe\">\n",
              "  <thead>\n",
              "    <tr style=\"text-align: right;\">\n",
              "      <th></th>\n",
              "      <th>age</th>\n",
              "      <th>job</th>\n",
              "      <th>marital</th>\n",
              "      <th>education</th>\n",
              "      <th>default</th>\n",
              "      <th>balance</th>\n",
              "      <th>housing</th>\n",
              "      <th>loan</th>\n",
              "      <th>contact</th>\n",
              "      <th>day</th>\n",
              "      <th>month</th>\n",
              "      <th>duration</th>\n",
              "      <th>campaign</th>\n",
              "      <th>pdays</th>\n",
              "      <th>previous</th>\n",
              "      <th>poutcome</th>\n",
              "      <th>y</th>\n",
              "    </tr>\n",
              "  </thead>\n",
              "  <tbody>\n",
              "    <tr>\n",
              "      <th>0</th>\n",
              "      <td>30</td>\n",
              "      <td>unemployed</td>\n",
              "      <td>married</td>\n",
              "      <td>primary</td>\n",
              "      <td>no</td>\n",
              "      <td>1787</td>\n",
              "      <td>no</td>\n",
              "      <td>no</td>\n",
              "      <td>cellular</td>\n",
              "      <td>19</td>\n",
              "      <td>oct</td>\n",
              "      <td>79</td>\n",
              "      <td>1</td>\n",
              "      <td>-1</td>\n",
              "      <td>0</td>\n",
              "      <td>unknown</td>\n",
              "      <td>no</td>\n",
              "    </tr>\n",
              "    <tr>\n",
              "      <th>1</th>\n",
              "      <td>33</td>\n",
              "      <td>services</td>\n",
              "      <td>married</td>\n",
              "      <td>secondary</td>\n",
              "      <td>no</td>\n",
              "      <td>4789</td>\n",
              "      <td>yes</td>\n",
              "      <td>yes</td>\n",
              "      <td>cellular</td>\n",
              "      <td>11</td>\n",
              "      <td>may</td>\n",
              "      <td>220</td>\n",
              "      <td>1</td>\n",
              "      <td>339</td>\n",
              "      <td>4</td>\n",
              "      <td>failure</td>\n",
              "      <td>no</td>\n",
              "    </tr>\n",
              "    <tr>\n",
              "      <th>2</th>\n",
              "      <td>35</td>\n",
              "      <td>management</td>\n",
              "      <td>single</td>\n",
              "      <td>tertiary</td>\n",
              "      <td>no</td>\n",
              "      <td>1350</td>\n",
              "      <td>yes</td>\n",
              "      <td>no</td>\n",
              "      <td>cellular</td>\n",
              "      <td>16</td>\n",
              "      <td>apr</td>\n",
              "      <td>185</td>\n",
              "      <td>1</td>\n",
              "      <td>330</td>\n",
              "      <td>1</td>\n",
              "      <td>failure</td>\n",
              "      <td>no</td>\n",
              "    </tr>\n",
              "    <tr>\n",
              "      <th>3</th>\n",
              "      <td>30</td>\n",
              "      <td>management</td>\n",
              "      <td>married</td>\n",
              "      <td>tertiary</td>\n",
              "      <td>no</td>\n",
              "      <td>1476</td>\n",
              "      <td>yes</td>\n",
              "      <td>yes</td>\n",
              "      <td>unknown</td>\n",
              "      <td>3</td>\n",
              "      <td>jun</td>\n",
              "      <td>199</td>\n",
              "      <td>4</td>\n",
              "      <td>-1</td>\n",
              "      <td>0</td>\n",
              "      <td>unknown</td>\n",
              "      <td>no</td>\n",
              "    </tr>\n",
              "    <tr>\n",
              "      <th>4</th>\n",
              "      <td>59</td>\n",
              "      <td>blue-collar</td>\n",
              "      <td>married</td>\n",
              "      <td>secondary</td>\n",
              "      <td>no</td>\n",
              "      <td>0</td>\n",
              "      <td>yes</td>\n",
              "      <td>no</td>\n",
              "      <td>unknown</td>\n",
              "      <td>5</td>\n",
              "      <td>may</td>\n",
              "      <td>226</td>\n",
              "      <td>1</td>\n",
              "      <td>-1</td>\n",
              "      <td>0</td>\n",
              "      <td>unknown</td>\n",
              "      <td>no</td>\n",
              "    </tr>\n",
              "    <tr>\n",
              "      <th>...</th>\n",
              "      <td>...</td>\n",
              "      <td>...</td>\n",
              "      <td>...</td>\n",
              "      <td>...</td>\n",
              "      <td>...</td>\n",
              "      <td>...</td>\n",
              "      <td>...</td>\n",
              "      <td>...</td>\n",
              "      <td>...</td>\n",
              "      <td>...</td>\n",
              "      <td>...</td>\n",
              "      <td>...</td>\n",
              "      <td>...</td>\n",
              "      <td>...</td>\n",
              "      <td>...</td>\n",
              "      <td>...</td>\n",
              "      <td>...</td>\n",
              "    </tr>\n",
              "    <tr>\n",
              "      <th>4516</th>\n",
              "      <td>33</td>\n",
              "      <td>services</td>\n",
              "      <td>married</td>\n",
              "      <td>secondary</td>\n",
              "      <td>no</td>\n",
              "      <td>-333</td>\n",
              "      <td>yes</td>\n",
              "      <td>no</td>\n",
              "      <td>cellular</td>\n",
              "      <td>30</td>\n",
              "      <td>jul</td>\n",
              "      <td>329</td>\n",
              "      <td>5</td>\n",
              "      <td>-1</td>\n",
              "      <td>0</td>\n",
              "      <td>unknown</td>\n",
              "      <td>no</td>\n",
              "    </tr>\n",
              "    <tr>\n",
              "      <th>4517</th>\n",
              "      <td>57</td>\n",
              "      <td>self-employed</td>\n",
              "      <td>married</td>\n",
              "      <td>tertiary</td>\n",
              "      <td>yes</td>\n",
              "      <td>-3313</td>\n",
              "      <td>yes</td>\n",
              "      <td>yes</td>\n",
              "      <td>unknown</td>\n",
              "      <td>9</td>\n",
              "      <td>may</td>\n",
              "      <td>153</td>\n",
              "      <td>1</td>\n",
              "      <td>-1</td>\n",
              "      <td>0</td>\n",
              "      <td>unknown</td>\n",
              "      <td>no</td>\n",
              "    </tr>\n",
              "    <tr>\n",
              "      <th>4518</th>\n",
              "      <td>57</td>\n",
              "      <td>technician</td>\n",
              "      <td>married</td>\n",
              "      <td>secondary</td>\n",
              "      <td>no</td>\n",
              "      <td>295</td>\n",
              "      <td>no</td>\n",
              "      <td>no</td>\n",
              "      <td>cellular</td>\n",
              "      <td>19</td>\n",
              "      <td>aug</td>\n",
              "      <td>151</td>\n",
              "      <td>11</td>\n",
              "      <td>-1</td>\n",
              "      <td>0</td>\n",
              "      <td>unknown</td>\n",
              "      <td>no</td>\n",
              "    </tr>\n",
              "    <tr>\n",
              "      <th>4519</th>\n",
              "      <td>28</td>\n",
              "      <td>blue-collar</td>\n",
              "      <td>married</td>\n",
              "      <td>secondary</td>\n",
              "      <td>no</td>\n",
              "      <td>1137</td>\n",
              "      <td>no</td>\n",
              "      <td>no</td>\n",
              "      <td>cellular</td>\n",
              "      <td>6</td>\n",
              "      <td>feb</td>\n",
              "      <td>129</td>\n",
              "      <td>4</td>\n",
              "      <td>211</td>\n",
              "      <td>3</td>\n",
              "      <td>other</td>\n",
              "      <td>no</td>\n",
              "    </tr>\n",
              "    <tr>\n",
              "      <th>4520</th>\n",
              "      <td>44</td>\n",
              "      <td>entrepreneur</td>\n",
              "      <td>single</td>\n",
              "      <td>tertiary</td>\n",
              "      <td>no</td>\n",
              "      <td>1136</td>\n",
              "      <td>yes</td>\n",
              "      <td>yes</td>\n",
              "      <td>cellular</td>\n",
              "      <td>3</td>\n",
              "      <td>apr</td>\n",
              "      <td>345</td>\n",
              "      <td>2</td>\n",
              "      <td>249</td>\n",
              "      <td>7</td>\n",
              "      <td>other</td>\n",
              "      <td>no</td>\n",
              "    </tr>\n",
              "  </tbody>\n",
              "</table>\n",
              "<p>4521 rows × 17 columns</p>\n",
              "</div>"
            ],
            "text/plain": [
              "      age            job  marital  education default  balance housing loan  \\\n",
              "0      30     unemployed  married    primary      no     1787      no   no   \n",
              "1      33       services  married  secondary      no     4789     yes  yes   \n",
              "2      35     management   single   tertiary      no     1350     yes   no   \n",
              "3      30     management  married   tertiary      no     1476     yes  yes   \n",
              "4      59    blue-collar  married  secondary      no        0     yes   no   \n",
              "...   ...            ...      ...        ...     ...      ...     ...  ...   \n",
              "4516   33       services  married  secondary      no     -333     yes   no   \n",
              "4517   57  self-employed  married   tertiary     yes    -3313     yes  yes   \n",
              "4518   57     technician  married  secondary      no      295      no   no   \n",
              "4519   28    blue-collar  married  secondary      no     1137      no   no   \n",
              "4520   44   entrepreneur   single   tertiary      no     1136     yes  yes   \n",
              "\n",
              "       contact  day month  duration  campaign  pdays  previous poutcome   y  \n",
              "0     cellular   19   oct        79         1     -1         0  unknown  no  \n",
              "1     cellular   11   may       220         1    339         4  failure  no  \n",
              "2     cellular   16   apr       185         1    330         1  failure  no  \n",
              "3      unknown    3   jun       199         4     -1         0  unknown  no  \n",
              "4      unknown    5   may       226         1     -1         0  unknown  no  \n",
              "...        ...  ...   ...       ...       ...    ...       ...      ...  ..  \n",
              "4516  cellular   30   jul       329         5     -1         0  unknown  no  \n",
              "4517   unknown    9   may       153         1     -1         0  unknown  no  \n",
              "4518  cellular   19   aug       151        11     -1         0  unknown  no  \n",
              "4519  cellular    6   feb       129         4    211         3    other  no  \n",
              "4520  cellular    3   apr       345         2    249         7    other  no  \n",
              "\n",
              "[4521 rows x 17 columns]"
            ]
          },
          "execution_count": 14,
          "metadata": {},
          "output_type": "execute_result"
        }
      ],
      "source": [
        "df"
      ]
    },
    {
      "cell_type": "code",
      "execution_count": null,
      "metadata": {
        "id": "PGcmMy7RyjP9"
      },
      "outputs": [],
      "source": [
        "df[\"loan\"] = df[\"loan\"].map({\"no\":0, \"yes\": 1}) #remapping with the dictionary worked, but inplace here. Later I assign numerical variables to all the lines with categorical or boolean operators."
      ]
    },
    {
      "cell_type": "code",
      "execution_count": null,
      "metadata": {
        "colab": {
          "base_uri": "https://localhost:8080/",
          "height": 461
        },
        "id": "AsTd_7FxzQjd",
        "outputId": "fb01c69c-2968-4349-e8d9-ed7b85a15a1c"
      },
      "outputs": [
        {
          "data": {
            "text/html": [
              "<div>\n",
              "<style scoped>\n",
              "    .dataframe tbody tr th:only-of-type {\n",
              "        vertical-align: middle;\n",
              "    }\n",
              "\n",
              "    .dataframe tbody tr th {\n",
              "        vertical-align: top;\n",
              "    }\n",
              "\n",
              "    .dataframe thead th {\n",
              "        text-align: right;\n",
              "    }\n",
              "</style>\n",
              "<table border=\"1\" class=\"dataframe\">\n",
              "  <thead>\n",
              "    <tr style=\"text-align: right;\">\n",
              "      <th></th>\n",
              "      <th>age</th>\n",
              "      <th>job</th>\n",
              "      <th>marital</th>\n",
              "      <th>education</th>\n",
              "      <th>default</th>\n",
              "      <th>balance</th>\n",
              "      <th>housing</th>\n",
              "      <th>loan</th>\n",
              "      <th>contact</th>\n",
              "      <th>day</th>\n",
              "      <th>month</th>\n",
              "      <th>duration</th>\n",
              "      <th>campaign</th>\n",
              "      <th>pdays</th>\n",
              "      <th>previous</th>\n",
              "      <th>poutcome</th>\n",
              "      <th>y</th>\n",
              "    </tr>\n",
              "  </thead>\n",
              "  <tbody>\n",
              "    <tr>\n",
              "      <th>0</th>\n",
              "      <td>30</td>\n",
              "      <td>unemployed</td>\n",
              "      <td>married</td>\n",
              "      <td>primary</td>\n",
              "      <td>no</td>\n",
              "      <td>1787</td>\n",
              "      <td>no</td>\n",
              "      <td>0</td>\n",
              "      <td>cellular</td>\n",
              "      <td>19</td>\n",
              "      <td>oct</td>\n",
              "      <td>79</td>\n",
              "      <td>1</td>\n",
              "      <td>-1</td>\n",
              "      <td>0</td>\n",
              "      <td>unknown</td>\n",
              "      <td>no</td>\n",
              "    </tr>\n",
              "    <tr>\n",
              "      <th>1</th>\n",
              "      <td>33</td>\n",
              "      <td>services</td>\n",
              "      <td>married</td>\n",
              "      <td>secondary</td>\n",
              "      <td>no</td>\n",
              "      <td>4789</td>\n",
              "      <td>yes</td>\n",
              "      <td>1</td>\n",
              "      <td>cellular</td>\n",
              "      <td>11</td>\n",
              "      <td>may</td>\n",
              "      <td>220</td>\n",
              "      <td>1</td>\n",
              "      <td>339</td>\n",
              "      <td>4</td>\n",
              "      <td>failure</td>\n",
              "      <td>no</td>\n",
              "    </tr>\n",
              "    <tr>\n",
              "      <th>2</th>\n",
              "      <td>35</td>\n",
              "      <td>management</td>\n",
              "      <td>single</td>\n",
              "      <td>tertiary</td>\n",
              "      <td>no</td>\n",
              "      <td>1350</td>\n",
              "      <td>yes</td>\n",
              "      <td>0</td>\n",
              "      <td>cellular</td>\n",
              "      <td>16</td>\n",
              "      <td>apr</td>\n",
              "      <td>185</td>\n",
              "      <td>1</td>\n",
              "      <td>330</td>\n",
              "      <td>1</td>\n",
              "      <td>failure</td>\n",
              "      <td>no</td>\n",
              "    </tr>\n",
              "    <tr>\n",
              "      <th>3</th>\n",
              "      <td>30</td>\n",
              "      <td>management</td>\n",
              "      <td>married</td>\n",
              "      <td>tertiary</td>\n",
              "      <td>no</td>\n",
              "      <td>1476</td>\n",
              "      <td>yes</td>\n",
              "      <td>1</td>\n",
              "      <td>unknown</td>\n",
              "      <td>3</td>\n",
              "      <td>jun</td>\n",
              "      <td>199</td>\n",
              "      <td>4</td>\n",
              "      <td>-1</td>\n",
              "      <td>0</td>\n",
              "      <td>unknown</td>\n",
              "      <td>no</td>\n",
              "    </tr>\n",
              "    <tr>\n",
              "      <th>4</th>\n",
              "      <td>59</td>\n",
              "      <td>blue-collar</td>\n",
              "      <td>married</td>\n",
              "      <td>secondary</td>\n",
              "      <td>no</td>\n",
              "      <td>0</td>\n",
              "      <td>yes</td>\n",
              "      <td>0</td>\n",
              "      <td>unknown</td>\n",
              "      <td>5</td>\n",
              "      <td>may</td>\n",
              "      <td>226</td>\n",
              "      <td>1</td>\n",
              "      <td>-1</td>\n",
              "      <td>0</td>\n",
              "      <td>unknown</td>\n",
              "      <td>no</td>\n",
              "    </tr>\n",
              "    <tr>\n",
              "      <th>...</th>\n",
              "      <td>...</td>\n",
              "      <td>...</td>\n",
              "      <td>...</td>\n",
              "      <td>...</td>\n",
              "      <td>...</td>\n",
              "      <td>...</td>\n",
              "      <td>...</td>\n",
              "      <td>...</td>\n",
              "      <td>...</td>\n",
              "      <td>...</td>\n",
              "      <td>...</td>\n",
              "      <td>...</td>\n",
              "      <td>...</td>\n",
              "      <td>...</td>\n",
              "      <td>...</td>\n",
              "      <td>...</td>\n",
              "      <td>...</td>\n",
              "    </tr>\n",
              "    <tr>\n",
              "      <th>4516</th>\n",
              "      <td>33</td>\n",
              "      <td>services</td>\n",
              "      <td>married</td>\n",
              "      <td>secondary</td>\n",
              "      <td>no</td>\n",
              "      <td>-333</td>\n",
              "      <td>yes</td>\n",
              "      <td>0</td>\n",
              "      <td>cellular</td>\n",
              "      <td>30</td>\n",
              "      <td>jul</td>\n",
              "      <td>329</td>\n",
              "      <td>5</td>\n",
              "      <td>-1</td>\n",
              "      <td>0</td>\n",
              "      <td>unknown</td>\n",
              "      <td>no</td>\n",
              "    </tr>\n",
              "    <tr>\n",
              "      <th>4517</th>\n",
              "      <td>57</td>\n",
              "      <td>self-employed</td>\n",
              "      <td>married</td>\n",
              "      <td>tertiary</td>\n",
              "      <td>yes</td>\n",
              "      <td>-3313</td>\n",
              "      <td>yes</td>\n",
              "      <td>1</td>\n",
              "      <td>unknown</td>\n",
              "      <td>9</td>\n",
              "      <td>may</td>\n",
              "      <td>153</td>\n",
              "      <td>1</td>\n",
              "      <td>-1</td>\n",
              "      <td>0</td>\n",
              "      <td>unknown</td>\n",
              "      <td>no</td>\n",
              "    </tr>\n",
              "    <tr>\n",
              "      <th>4518</th>\n",
              "      <td>57</td>\n",
              "      <td>technician</td>\n",
              "      <td>married</td>\n",
              "      <td>secondary</td>\n",
              "      <td>no</td>\n",
              "      <td>295</td>\n",
              "      <td>no</td>\n",
              "      <td>0</td>\n",
              "      <td>cellular</td>\n",
              "      <td>19</td>\n",
              "      <td>aug</td>\n",
              "      <td>151</td>\n",
              "      <td>11</td>\n",
              "      <td>-1</td>\n",
              "      <td>0</td>\n",
              "      <td>unknown</td>\n",
              "      <td>no</td>\n",
              "    </tr>\n",
              "    <tr>\n",
              "      <th>4519</th>\n",
              "      <td>28</td>\n",
              "      <td>blue-collar</td>\n",
              "      <td>married</td>\n",
              "      <td>secondary</td>\n",
              "      <td>no</td>\n",
              "      <td>1137</td>\n",
              "      <td>no</td>\n",
              "      <td>0</td>\n",
              "      <td>cellular</td>\n",
              "      <td>6</td>\n",
              "      <td>feb</td>\n",
              "      <td>129</td>\n",
              "      <td>4</td>\n",
              "      <td>211</td>\n",
              "      <td>3</td>\n",
              "      <td>other</td>\n",
              "      <td>no</td>\n",
              "    </tr>\n",
              "    <tr>\n",
              "      <th>4520</th>\n",
              "      <td>44</td>\n",
              "      <td>entrepreneur</td>\n",
              "      <td>single</td>\n",
              "      <td>tertiary</td>\n",
              "      <td>no</td>\n",
              "      <td>1136</td>\n",
              "      <td>yes</td>\n",
              "      <td>1</td>\n",
              "      <td>cellular</td>\n",
              "      <td>3</td>\n",
              "      <td>apr</td>\n",
              "      <td>345</td>\n",
              "      <td>2</td>\n",
              "      <td>249</td>\n",
              "      <td>7</td>\n",
              "      <td>other</td>\n",
              "      <td>no</td>\n",
              "    </tr>\n",
              "  </tbody>\n",
              "</table>\n",
              "<p>4521 rows × 17 columns</p>\n",
              "</div>"
            ],
            "text/plain": [
              "      age            job  marital  education default  balance housing  loan  \\\n",
              "0      30     unemployed  married    primary      no     1787      no     0   \n",
              "1      33       services  married  secondary      no     4789     yes     1   \n",
              "2      35     management   single   tertiary      no     1350     yes     0   \n",
              "3      30     management  married   tertiary      no     1476     yes     1   \n",
              "4      59    blue-collar  married  secondary      no        0     yes     0   \n",
              "...   ...            ...      ...        ...     ...      ...     ...   ...   \n",
              "4516   33       services  married  secondary      no     -333     yes     0   \n",
              "4517   57  self-employed  married   tertiary     yes    -3313     yes     1   \n",
              "4518   57     technician  married  secondary      no      295      no     0   \n",
              "4519   28    blue-collar  married  secondary      no     1137      no     0   \n",
              "4520   44   entrepreneur   single   tertiary      no     1136     yes     1   \n",
              "\n",
              "       contact  day month  duration  campaign  pdays  previous poutcome   y  \n",
              "0     cellular   19   oct        79         1     -1         0  unknown  no  \n",
              "1     cellular   11   may       220         1    339         4  failure  no  \n",
              "2     cellular   16   apr       185         1    330         1  failure  no  \n",
              "3      unknown    3   jun       199         4     -1         0  unknown  no  \n",
              "4      unknown    5   may       226         1     -1         0  unknown  no  \n",
              "...        ...  ...   ...       ...       ...    ...       ...      ...  ..  \n",
              "4516  cellular   30   jul       329         5     -1         0  unknown  no  \n",
              "4517   unknown    9   may       153         1     -1         0  unknown  no  \n",
              "4518  cellular   19   aug       151        11     -1         0  unknown  no  \n",
              "4519  cellular    6   feb       129         4    211         3    other  no  \n",
              "4520  cellular    3   apr       345         2    249         7    other  no  \n",
              "\n",
              "[4521 rows x 17 columns]"
            ]
          },
          "execution_count": 16,
          "metadata": {},
          "output_type": "execute_result"
        }
      ],
      "source": [
        "df"
      ]
    },
    {
      "cell_type": "code",
      "execution_count": null,
      "metadata": {
        "colab": {
          "base_uri": "https://localhost:8080/",
          "height": 461
        },
        "id": "ROdcImJFzesT",
        "outputId": "c2f2d923-4819-43cc-b0ac-f28363fa155c",
        "scrolled": true
      },
      "outputs": [
        {
          "data": {
            "text/html": [
              "<div>\n",
              "<style scoped>\n",
              "    .dataframe tbody tr th:only-of-type {\n",
              "        vertical-align: middle;\n",
              "    }\n",
              "\n",
              "    .dataframe tbody tr th {\n",
              "        vertical-align: top;\n",
              "    }\n",
              "\n",
              "    .dataframe thead th {\n",
              "        text-align: right;\n",
              "    }\n",
              "</style>\n",
              "<table border=\"1\" class=\"dataframe\">\n",
              "  <thead>\n",
              "    <tr style=\"text-align: right;\">\n",
              "      <th></th>\n",
              "      <th>age</th>\n",
              "      <th>job</th>\n",
              "      <th>marital</th>\n",
              "      <th>education</th>\n",
              "      <th>default</th>\n",
              "      <th>balance</th>\n",
              "      <th>housing</th>\n",
              "      <th>loan</th>\n",
              "      <th>contact</th>\n",
              "      <th>day</th>\n",
              "      <th>month</th>\n",
              "      <th>duration</th>\n",
              "      <th>campaign</th>\n",
              "      <th>pdays</th>\n",
              "      <th>previous</th>\n",
              "      <th>poutcome</th>\n",
              "      <th>y</th>\n",
              "    </tr>\n",
              "  </thead>\n",
              "  <tbody>\n",
              "    <tr>\n",
              "      <th>0</th>\n",
              "      <td>30</td>\n",
              "      <td>unemployed</td>\n",
              "      <td>1</td>\n",
              "      <td>primary</td>\n",
              "      <td>no</td>\n",
              "      <td>1787</td>\n",
              "      <td>no</td>\n",
              "      <td>0</td>\n",
              "      <td>cellular</td>\n",
              "      <td>19</td>\n",
              "      <td>oct</td>\n",
              "      <td>79</td>\n",
              "      <td>1</td>\n",
              "      <td>-1</td>\n",
              "      <td>0</td>\n",
              "      <td>unknown</td>\n",
              "      <td>no</td>\n",
              "    </tr>\n",
              "    <tr>\n",
              "      <th>1</th>\n",
              "      <td>33</td>\n",
              "      <td>services</td>\n",
              "      <td>1</td>\n",
              "      <td>secondary</td>\n",
              "      <td>no</td>\n",
              "      <td>4789</td>\n",
              "      <td>yes</td>\n",
              "      <td>1</td>\n",
              "      <td>cellular</td>\n",
              "      <td>11</td>\n",
              "      <td>may</td>\n",
              "      <td>220</td>\n",
              "      <td>1</td>\n",
              "      <td>339</td>\n",
              "      <td>4</td>\n",
              "      <td>failure</td>\n",
              "      <td>no</td>\n",
              "    </tr>\n",
              "    <tr>\n",
              "      <th>2</th>\n",
              "      <td>35</td>\n",
              "      <td>management</td>\n",
              "      <td>0</td>\n",
              "      <td>tertiary</td>\n",
              "      <td>no</td>\n",
              "      <td>1350</td>\n",
              "      <td>yes</td>\n",
              "      <td>0</td>\n",
              "      <td>cellular</td>\n",
              "      <td>16</td>\n",
              "      <td>apr</td>\n",
              "      <td>185</td>\n",
              "      <td>1</td>\n",
              "      <td>330</td>\n",
              "      <td>1</td>\n",
              "      <td>failure</td>\n",
              "      <td>no</td>\n",
              "    </tr>\n",
              "    <tr>\n",
              "      <th>3</th>\n",
              "      <td>30</td>\n",
              "      <td>management</td>\n",
              "      <td>1</td>\n",
              "      <td>tertiary</td>\n",
              "      <td>no</td>\n",
              "      <td>1476</td>\n",
              "      <td>yes</td>\n",
              "      <td>1</td>\n",
              "      <td>unknown</td>\n",
              "      <td>3</td>\n",
              "      <td>jun</td>\n",
              "      <td>199</td>\n",
              "      <td>4</td>\n",
              "      <td>-1</td>\n",
              "      <td>0</td>\n",
              "      <td>unknown</td>\n",
              "      <td>no</td>\n",
              "    </tr>\n",
              "    <tr>\n",
              "      <th>4</th>\n",
              "      <td>59</td>\n",
              "      <td>blue-collar</td>\n",
              "      <td>1</td>\n",
              "      <td>secondary</td>\n",
              "      <td>no</td>\n",
              "      <td>0</td>\n",
              "      <td>yes</td>\n",
              "      <td>0</td>\n",
              "      <td>unknown</td>\n",
              "      <td>5</td>\n",
              "      <td>may</td>\n",
              "      <td>226</td>\n",
              "      <td>1</td>\n",
              "      <td>-1</td>\n",
              "      <td>0</td>\n",
              "      <td>unknown</td>\n",
              "      <td>no</td>\n",
              "    </tr>\n",
              "    <tr>\n",
              "      <th>...</th>\n",
              "      <td>...</td>\n",
              "      <td>...</td>\n",
              "      <td>...</td>\n",
              "      <td>...</td>\n",
              "      <td>...</td>\n",
              "      <td>...</td>\n",
              "      <td>...</td>\n",
              "      <td>...</td>\n",
              "      <td>...</td>\n",
              "      <td>...</td>\n",
              "      <td>...</td>\n",
              "      <td>...</td>\n",
              "      <td>...</td>\n",
              "      <td>...</td>\n",
              "      <td>...</td>\n",
              "      <td>...</td>\n",
              "      <td>...</td>\n",
              "    </tr>\n",
              "    <tr>\n",
              "      <th>4516</th>\n",
              "      <td>33</td>\n",
              "      <td>services</td>\n",
              "      <td>1</td>\n",
              "      <td>secondary</td>\n",
              "      <td>no</td>\n",
              "      <td>-333</td>\n",
              "      <td>yes</td>\n",
              "      <td>0</td>\n",
              "      <td>cellular</td>\n",
              "      <td>30</td>\n",
              "      <td>jul</td>\n",
              "      <td>329</td>\n",
              "      <td>5</td>\n",
              "      <td>-1</td>\n",
              "      <td>0</td>\n",
              "      <td>unknown</td>\n",
              "      <td>no</td>\n",
              "    </tr>\n",
              "    <tr>\n",
              "      <th>4517</th>\n",
              "      <td>57</td>\n",
              "      <td>self-employed</td>\n",
              "      <td>1</td>\n",
              "      <td>tertiary</td>\n",
              "      <td>yes</td>\n",
              "      <td>-3313</td>\n",
              "      <td>yes</td>\n",
              "      <td>1</td>\n",
              "      <td>unknown</td>\n",
              "      <td>9</td>\n",
              "      <td>may</td>\n",
              "      <td>153</td>\n",
              "      <td>1</td>\n",
              "      <td>-1</td>\n",
              "      <td>0</td>\n",
              "      <td>unknown</td>\n",
              "      <td>no</td>\n",
              "    </tr>\n",
              "    <tr>\n",
              "      <th>4518</th>\n",
              "      <td>57</td>\n",
              "      <td>technician</td>\n",
              "      <td>1</td>\n",
              "      <td>secondary</td>\n",
              "      <td>no</td>\n",
              "      <td>295</td>\n",
              "      <td>no</td>\n",
              "      <td>0</td>\n",
              "      <td>cellular</td>\n",
              "      <td>19</td>\n",
              "      <td>aug</td>\n",
              "      <td>151</td>\n",
              "      <td>11</td>\n",
              "      <td>-1</td>\n",
              "      <td>0</td>\n",
              "      <td>unknown</td>\n",
              "      <td>no</td>\n",
              "    </tr>\n",
              "    <tr>\n",
              "      <th>4519</th>\n",
              "      <td>28</td>\n",
              "      <td>blue-collar</td>\n",
              "      <td>1</td>\n",
              "      <td>secondary</td>\n",
              "      <td>no</td>\n",
              "      <td>1137</td>\n",
              "      <td>no</td>\n",
              "      <td>0</td>\n",
              "      <td>cellular</td>\n",
              "      <td>6</td>\n",
              "      <td>feb</td>\n",
              "      <td>129</td>\n",
              "      <td>4</td>\n",
              "      <td>211</td>\n",
              "      <td>3</td>\n",
              "      <td>other</td>\n",
              "      <td>no</td>\n",
              "    </tr>\n",
              "    <tr>\n",
              "      <th>4520</th>\n",
              "      <td>44</td>\n",
              "      <td>entrepreneur</td>\n",
              "      <td>0</td>\n",
              "      <td>tertiary</td>\n",
              "      <td>no</td>\n",
              "      <td>1136</td>\n",
              "      <td>yes</td>\n",
              "      <td>1</td>\n",
              "      <td>cellular</td>\n",
              "      <td>3</td>\n",
              "      <td>apr</td>\n",
              "      <td>345</td>\n",
              "      <td>2</td>\n",
              "      <td>249</td>\n",
              "      <td>7</td>\n",
              "      <td>other</td>\n",
              "      <td>no</td>\n",
              "    </tr>\n",
              "  </tbody>\n",
              "</table>\n",
              "<p>4521 rows × 17 columns</p>\n",
              "</div>"
            ],
            "text/plain": [
              "      age            job  marital  education default  balance housing  loan  \\\n",
              "0      30     unemployed        1    primary      no     1787      no     0   \n",
              "1      33       services        1  secondary      no     4789     yes     1   \n",
              "2      35     management        0   tertiary      no     1350     yes     0   \n",
              "3      30     management        1   tertiary      no     1476     yes     1   \n",
              "4      59    blue-collar        1  secondary      no        0     yes     0   \n",
              "...   ...            ...      ...        ...     ...      ...     ...   ...   \n",
              "4516   33       services        1  secondary      no     -333     yes     0   \n",
              "4517   57  self-employed        1   tertiary     yes    -3313     yes     1   \n",
              "4518   57     technician        1  secondary      no      295      no     0   \n",
              "4519   28    blue-collar        1  secondary      no     1137      no     0   \n",
              "4520   44   entrepreneur        0   tertiary      no     1136     yes     1   \n",
              "\n",
              "       contact  day month  duration  campaign  pdays  previous poutcome   y  \n",
              "0     cellular   19   oct        79         1     -1         0  unknown  no  \n",
              "1     cellular   11   may       220         1    339         4  failure  no  \n",
              "2     cellular   16   apr       185         1    330         1  failure  no  \n",
              "3      unknown    3   jun       199         4     -1         0  unknown  no  \n",
              "4      unknown    5   may       226         1     -1         0  unknown  no  \n",
              "...        ...  ...   ...       ...       ...    ...       ...      ...  ..  \n",
              "4516  cellular   30   jul       329         5     -1         0  unknown  no  \n",
              "4517   unknown    9   may       153         1     -1         0  unknown  no  \n",
              "4518  cellular   19   aug       151        11     -1         0  unknown  no  \n",
              "4519  cellular    6   feb       129         4    211         3    other  no  \n",
              "4520  cellular    3   apr       345         2    249         7    other  no  \n",
              "\n",
              "[4521 rows x 17 columns]"
            ]
          },
          "execution_count": 17,
          "metadata": {},
          "output_type": "execute_result"
        }
      ],
      "source": [
        "df[\"marital\"] = df[\"marital\"].map({\"single\":0, \"married\": 1, \"divorced\":2}) #remapping with the dictionary as with the loan variable\n",
        "df"
      ]
    },
    {
      "cell_type": "markdown",
      "metadata": {
        "id": "FUHxwnQX4_KD"
      },
      "source": [
        "Use the Bank.csv in attachment.\n",
        "\n",
        "Try the following estimation models and use them to predict customer subscription (y in the table).\n",
        "\n",
        "You should print the cross validation score and confusion matrix for each model. Report which model works best.\n",
        "\n",
        "1 Linear model\n",
        "\n",
        "2 Logit model\n",
        "\n",
        "3 Decision tree\n",
        "\n",
        "4 KNN\n",
        "\n",
        "5 SVM\n",
        "\n",
        "\n",
        "\n"
      ]
    },
    {
      "cell_type": "code",
      "execution_count": null,
      "metadata": {
        "id": "y3Mu65ur5RcG"
      },
      "outputs": [],
      "source": [
        "## Linear Model\n",
        "\n",
        "# grabbing all the packages\n",
        "\n",
        "import numpy as np\n",
        "from sklearn.linear_model import LinearRegression\n",
        "import pandas\n",
        "from pandas.plotting import scatter_matrix\n",
        "import matplotlib.pyplot as plt\n",
        "from sklearn import model_selection\n",
        "from sklearn.metrics import classification_report\n",
        "from sklearn.metrics import confusion_matrix\n",
        "from sklearn.metrics import accuracy_score\n",
        "from sklearn.linear_model import LogisticRegression\n"
      ]
    },
    {
      "cell_type": "code",
      "execution_count": null,
      "metadata": {
        "id": "ppud999K7df5"
      },
      "outputs": [],
      "source": [
        "# kill the warnings\n",
        "\n",
        "from warnings import simplefilter\n",
        "simplefilter(action = \"ignore\", category = FutureWarning)\n",
        "\n",
        "#looking at the data, I need to add numerical values to other variables. And put in dummies for the non numbers"
      ]
    },
    {
      "cell_type": "code",
      "execution_count": null,
      "metadata": {
        "colab": {
          "base_uri": "https://localhost:8080/"
        },
        "id": "voEQwXFE-JSJ",
        "outputId": "d37d94be-909a-4b33-f9ed-9924054b413a"
      },
      "outputs": [
        {
          "data": {
            "text/plain": [
              "age           int64\n",
              "job          object\n",
              "marital       int64\n",
              "education    object\n",
              "default      object\n",
              "balance       int64\n",
              "housing      object\n",
              "loan          int64\n",
              "contact      object\n",
              "day           int64\n",
              "month        object\n",
              "duration      int64\n",
              "campaign      int64\n",
              "pdays         int64\n",
              "previous      int64\n",
              "poutcome     object\n",
              "y            object\n",
              "dtype: object"
            ]
          },
          "execution_count": 20,
          "metadata": {},
          "output_type": "execute_result"
        }
      ],
      "source": [
        "df.dtypes"
      ]
    },
    {
      "cell_type": "code",
      "execution_count": null,
      "metadata": {
        "id": "05VCvupR-RDA"
      },
      "outputs": [],
      "source": [
        "#numerical for job, education, default, housing, contact, month, outcome\n",
        "\n",
        "df[\"job\"] = df[\"job\"].map({\"admin\":0, \"admin.\":0, \"blue-collar\": 1,\"entrepreneur\":2,\"housemaid\": 3, \"management\": 4,\"retired\": 5,\"self-employed\": 6,\"services\": 7,\"student\":8,\n",
        "                           \"technician\": 9, \"unemployed\":10,\"unknown\": 11})\n",
        "#check admin for \"admin.\"\n",
        "\n"
      ]
    },
    {
      "cell_type": "code",
      "execution_count": null,
      "metadata": {
        "id": "_GVlD3EQKZo0"
      },
      "outputs": [],
      "source": [
        "df[\"education\"] = df[\"education\"].map({\"primary\":0, \"secondary\":1, \"tertiary\": 2, \"unknown\":3})\n"
      ]
    },
    {
      "cell_type": "code",
      "execution_count": null,
      "metadata": {
        "id": "oB6SNzG3KZx0"
      },
      "outputs": [],
      "source": [
        "df[\"default\"] = df[\"default\"].map({\"no\":0, \"yes\": 1})\n"
      ]
    },
    {
      "cell_type": "code",
      "execution_count": null,
      "metadata": {
        "id": "aQ69x7qwKZ5c",
        "outputId": "227fadfe-20cf-4858-aaf4-35976cd238b0"
      },
      "outputs": [
        {
          "data": {
            "text/html": [
              "<div>\n",
              "<style scoped>\n",
              "    .dataframe tbody tr th:only-of-type {\n",
              "        vertical-align: middle;\n",
              "    }\n",
              "\n",
              "    .dataframe tbody tr th {\n",
              "        vertical-align: top;\n",
              "    }\n",
              "\n",
              "    .dataframe thead th {\n",
              "        text-align: right;\n",
              "    }\n",
              "</style>\n",
              "<table border=\"1\" class=\"dataframe\">\n",
              "  <thead>\n",
              "    <tr style=\"text-align: right;\">\n",
              "      <th></th>\n",
              "      <th>age</th>\n",
              "      <th>job</th>\n",
              "      <th>marital</th>\n",
              "      <th>education</th>\n",
              "      <th>default</th>\n",
              "      <th>balance</th>\n",
              "      <th>housing</th>\n",
              "      <th>loan</th>\n",
              "      <th>contact</th>\n",
              "      <th>day</th>\n",
              "      <th>month</th>\n",
              "      <th>duration</th>\n",
              "      <th>campaign</th>\n",
              "      <th>pdays</th>\n",
              "      <th>previous</th>\n",
              "      <th>poutcome</th>\n",
              "      <th>y</th>\n",
              "    </tr>\n",
              "  </thead>\n",
              "  <tbody>\n",
              "    <tr>\n",
              "      <th>0</th>\n",
              "      <td>30</td>\n",
              "      <td>10</td>\n",
              "      <td>1</td>\n",
              "      <td>0</td>\n",
              "      <td>0</td>\n",
              "      <td>1787</td>\n",
              "      <td>0</td>\n",
              "      <td>0</td>\n",
              "      <td>cellular</td>\n",
              "      <td>19</td>\n",
              "      <td>oct</td>\n",
              "      <td>79</td>\n",
              "      <td>1</td>\n",
              "      <td>-1</td>\n",
              "      <td>0</td>\n",
              "      <td>unknown</td>\n",
              "      <td>no</td>\n",
              "    </tr>\n",
              "    <tr>\n",
              "      <th>1</th>\n",
              "      <td>33</td>\n",
              "      <td>7</td>\n",
              "      <td>1</td>\n",
              "      <td>1</td>\n",
              "      <td>0</td>\n",
              "      <td>4789</td>\n",
              "      <td>1</td>\n",
              "      <td>1</td>\n",
              "      <td>cellular</td>\n",
              "      <td>11</td>\n",
              "      <td>may</td>\n",
              "      <td>220</td>\n",
              "      <td>1</td>\n",
              "      <td>339</td>\n",
              "      <td>4</td>\n",
              "      <td>failure</td>\n",
              "      <td>no</td>\n",
              "    </tr>\n",
              "    <tr>\n",
              "      <th>2</th>\n",
              "      <td>35</td>\n",
              "      <td>4</td>\n",
              "      <td>0</td>\n",
              "      <td>2</td>\n",
              "      <td>0</td>\n",
              "      <td>1350</td>\n",
              "      <td>1</td>\n",
              "      <td>0</td>\n",
              "      <td>cellular</td>\n",
              "      <td>16</td>\n",
              "      <td>apr</td>\n",
              "      <td>185</td>\n",
              "      <td>1</td>\n",
              "      <td>330</td>\n",
              "      <td>1</td>\n",
              "      <td>failure</td>\n",
              "      <td>no</td>\n",
              "    </tr>\n",
              "    <tr>\n",
              "      <th>3</th>\n",
              "      <td>30</td>\n",
              "      <td>4</td>\n",
              "      <td>1</td>\n",
              "      <td>2</td>\n",
              "      <td>0</td>\n",
              "      <td>1476</td>\n",
              "      <td>1</td>\n",
              "      <td>1</td>\n",
              "      <td>unknown</td>\n",
              "      <td>3</td>\n",
              "      <td>jun</td>\n",
              "      <td>199</td>\n",
              "      <td>4</td>\n",
              "      <td>-1</td>\n",
              "      <td>0</td>\n",
              "      <td>unknown</td>\n",
              "      <td>no</td>\n",
              "    </tr>\n",
              "    <tr>\n",
              "      <th>4</th>\n",
              "      <td>59</td>\n",
              "      <td>1</td>\n",
              "      <td>1</td>\n",
              "      <td>1</td>\n",
              "      <td>0</td>\n",
              "      <td>0</td>\n",
              "      <td>1</td>\n",
              "      <td>0</td>\n",
              "      <td>unknown</td>\n",
              "      <td>5</td>\n",
              "      <td>may</td>\n",
              "      <td>226</td>\n",
              "      <td>1</td>\n",
              "      <td>-1</td>\n",
              "      <td>0</td>\n",
              "      <td>unknown</td>\n",
              "      <td>no</td>\n",
              "    </tr>\n",
              "    <tr>\n",
              "      <th>...</th>\n",
              "      <td>...</td>\n",
              "      <td>...</td>\n",
              "      <td>...</td>\n",
              "      <td>...</td>\n",
              "      <td>...</td>\n",
              "      <td>...</td>\n",
              "      <td>...</td>\n",
              "      <td>...</td>\n",
              "      <td>...</td>\n",
              "      <td>...</td>\n",
              "      <td>...</td>\n",
              "      <td>...</td>\n",
              "      <td>...</td>\n",
              "      <td>...</td>\n",
              "      <td>...</td>\n",
              "      <td>...</td>\n",
              "      <td>...</td>\n",
              "    </tr>\n",
              "    <tr>\n",
              "      <th>4516</th>\n",
              "      <td>33</td>\n",
              "      <td>7</td>\n",
              "      <td>1</td>\n",
              "      <td>1</td>\n",
              "      <td>0</td>\n",
              "      <td>-333</td>\n",
              "      <td>1</td>\n",
              "      <td>0</td>\n",
              "      <td>cellular</td>\n",
              "      <td>30</td>\n",
              "      <td>jul</td>\n",
              "      <td>329</td>\n",
              "      <td>5</td>\n",
              "      <td>-1</td>\n",
              "      <td>0</td>\n",
              "      <td>unknown</td>\n",
              "      <td>no</td>\n",
              "    </tr>\n",
              "    <tr>\n",
              "      <th>4517</th>\n",
              "      <td>57</td>\n",
              "      <td>6</td>\n",
              "      <td>1</td>\n",
              "      <td>2</td>\n",
              "      <td>1</td>\n",
              "      <td>-3313</td>\n",
              "      <td>1</td>\n",
              "      <td>1</td>\n",
              "      <td>unknown</td>\n",
              "      <td>9</td>\n",
              "      <td>may</td>\n",
              "      <td>153</td>\n",
              "      <td>1</td>\n",
              "      <td>-1</td>\n",
              "      <td>0</td>\n",
              "      <td>unknown</td>\n",
              "      <td>no</td>\n",
              "    </tr>\n",
              "    <tr>\n",
              "      <th>4518</th>\n",
              "      <td>57</td>\n",
              "      <td>9</td>\n",
              "      <td>1</td>\n",
              "      <td>1</td>\n",
              "      <td>0</td>\n",
              "      <td>295</td>\n",
              "      <td>0</td>\n",
              "      <td>0</td>\n",
              "      <td>cellular</td>\n",
              "      <td>19</td>\n",
              "      <td>aug</td>\n",
              "      <td>151</td>\n",
              "      <td>11</td>\n",
              "      <td>-1</td>\n",
              "      <td>0</td>\n",
              "      <td>unknown</td>\n",
              "      <td>no</td>\n",
              "    </tr>\n",
              "    <tr>\n",
              "      <th>4519</th>\n",
              "      <td>28</td>\n",
              "      <td>1</td>\n",
              "      <td>1</td>\n",
              "      <td>1</td>\n",
              "      <td>0</td>\n",
              "      <td>1137</td>\n",
              "      <td>0</td>\n",
              "      <td>0</td>\n",
              "      <td>cellular</td>\n",
              "      <td>6</td>\n",
              "      <td>feb</td>\n",
              "      <td>129</td>\n",
              "      <td>4</td>\n",
              "      <td>211</td>\n",
              "      <td>3</td>\n",
              "      <td>other</td>\n",
              "      <td>no</td>\n",
              "    </tr>\n",
              "    <tr>\n",
              "      <th>4520</th>\n",
              "      <td>44</td>\n",
              "      <td>2</td>\n",
              "      <td>0</td>\n",
              "      <td>2</td>\n",
              "      <td>0</td>\n",
              "      <td>1136</td>\n",
              "      <td>1</td>\n",
              "      <td>1</td>\n",
              "      <td>cellular</td>\n",
              "      <td>3</td>\n",
              "      <td>apr</td>\n",
              "      <td>345</td>\n",
              "      <td>2</td>\n",
              "      <td>249</td>\n",
              "      <td>7</td>\n",
              "      <td>other</td>\n",
              "      <td>no</td>\n",
              "    </tr>\n",
              "  </tbody>\n",
              "</table>\n",
              "<p>4521 rows × 17 columns</p>\n",
              "</div>"
            ],
            "text/plain": [
              "      age  job  marital  education  default  balance  housing  loan   contact  \\\n",
              "0      30   10        1          0        0     1787        0     0  cellular   \n",
              "1      33    7        1          1        0     4789        1     1  cellular   \n",
              "2      35    4        0          2        0     1350        1     0  cellular   \n",
              "3      30    4        1          2        0     1476        1     1   unknown   \n",
              "4      59    1        1          1        0        0        1     0   unknown   \n",
              "...   ...  ...      ...        ...      ...      ...      ...   ...       ...   \n",
              "4516   33    7        1          1        0     -333        1     0  cellular   \n",
              "4517   57    6        1          2        1    -3313        1     1   unknown   \n",
              "4518   57    9        1          1        0      295        0     0  cellular   \n",
              "4519   28    1        1          1        0     1137        0     0  cellular   \n",
              "4520   44    2        0          2        0     1136        1     1  cellular   \n",
              "\n",
              "      day month  duration  campaign  pdays  previous poutcome   y  \n",
              "0      19   oct        79         1     -1         0  unknown  no  \n",
              "1      11   may       220         1    339         4  failure  no  \n",
              "2      16   apr       185         1    330         1  failure  no  \n",
              "3       3   jun       199         4     -1         0  unknown  no  \n",
              "4       5   may       226         1     -1         0  unknown  no  \n",
              "...   ...   ...       ...       ...    ...       ...      ...  ..  \n",
              "4516   30   jul       329         5     -1         0  unknown  no  \n",
              "4517    9   may       153         1     -1         0  unknown  no  \n",
              "4518   19   aug       151        11     -1         0  unknown  no  \n",
              "4519    6   feb       129         4    211         3    other  no  \n",
              "4520    3   apr       345         2    249         7    other  no  \n",
              "\n",
              "[4521 rows x 17 columns]"
            ]
          },
          "execution_count": 24,
          "metadata": {},
          "output_type": "execute_result"
        }
      ],
      "source": [
        "df[\"housing\"] = df[\"housing\"].map({\"no\":0, \"yes\": 1})\n",
        "df"
      ]
    },
    {
      "cell_type": "code",
      "execution_count": null,
      "metadata": {
        "id": "jh2L-Nn8KaJj"
      },
      "outputs": [],
      "source": [
        "df[\"contact\"] = df[\"contact\"].map({\"cellular\":0, \"telephone\": 1, \"unknown\":2})\n"
      ]
    },
    {
      "cell_type": "code",
      "execution_count": null,
      "metadata": {
        "id": "mNVd-tFqKaOM"
      },
      "outputs": [],
      "source": [
        "df[\"month\"] = df[\"month\"].map({\"jan\":1, \"feb\":2, \"mar\":3, \"apr\":4, \"may\":5, \"jun\":6, \"jul\": 7, \"aug\":8, \"sep\": 9, \"oct\":10, \"nov\":11, \"dec\":12})\n"
      ]
    },
    {
      "cell_type": "code",
      "execution_count": null,
      "metadata": {
        "id": "KisLKEogKaR7"
      },
      "outputs": [],
      "source": [
        "df[\"poutcome\"] = df[\"poutcome\"].map({\"failure\":0, \"other\": 1, \"success\":2, \"unknown\":3})"
      ]
    },
    {
      "cell_type": "code",
      "execution_count": null,
      "metadata": {
        "id": "PeikIQLqSBSZ"
      },
      "outputs": [],
      "source": [
        "df[\"y\"] = df[\"y\"].map({\"no\":0, \"yes\": 1})\n",
        "\n"
      ]
    },
    {
      "cell_type": "code",
      "execution_count": null,
      "metadata": {
        "colab": {
          "base_uri": "https://localhost:8080/",
          "height": 444
        },
        "id": "L_Qe2zxPSN5W",
        "outputId": "03628878-7175-4ccb-8d42-f1d8140230e8"
      },
      "outputs": [
        {
          "data": {
            "text/html": [
              "<div>\n",
              "<style scoped>\n",
              "    .dataframe tbody tr th:only-of-type {\n",
              "        vertical-align: middle;\n",
              "    }\n",
              "\n",
              "    .dataframe tbody tr th {\n",
              "        vertical-align: top;\n",
              "    }\n",
              "\n",
              "    .dataframe thead th {\n",
              "        text-align: right;\n",
              "    }\n",
              "</style>\n",
              "<table border=\"1\" class=\"dataframe\">\n",
              "  <thead>\n",
              "    <tr style=\"text-align: right;\">\n",
              "      <th></th>\n",
              "      <th>age</th>\n",
              "      <th>job</th>\n",
              "      <th>marital</th>\n",
              "      <th>education</th>\n",
              "      <th>default</th>\n",
              "      <th>balance</th>\n",
              "      <th>housing</th>\n",
              "      <th>loan</th>\n",
              "      <th>contact</th>\n",
              "      <th>day</th>\n",
              "      <th>month</th>\n",
              "      <th>duration</th>\n",
              "      <th>campaign</th>\n",
              "      <th>pdays</th>\n",
              "      <th>previous</th>\n",
              "      <th>poutcome</th>\n",
              "      <th>y</th>\n",
              "    </tr>\n",
              "  </thead>\n",
              "  <tbody>\n",
              "    <tr>\n",
              "      <th>0</th>\n",
              "      <td>30</td>\n",
              "      <td>10</td>\n",
              "      <td>1</td>\n",
              "      <td>0</td>\n",
              "      <td>0</td>\n",
              "      <td>1787</td>\n",
              "      <td>0</td>\n",
              "      <td>0</td>\n",
              "      <td>0</td>\n",
              "      <td>19</td>\n",
              "      <td>10</td>\n",
              "      <td>79</td>\n",
              "      <td>1</td>\n",
              "      <td>-1</td>\n",
              "      <td>0</td>\n",
              "      <td>3</td>\n",
              "      <td>0</td>\n",
              "    </tr>\n",
              "    <tr>\n",
              "      <th>1</th>\n",
              "      <td>33</td>\n",
              "      <td>7</td>\n",
              "      <td>1</td>\n",
              "      <td>1</td>\n",
              "      <td>0</td>\n",
              "      <td>4789</td>\n",
              "      <td>1</td>\n",
              "      <td>1</td>\n",
              "      <td>0</td>\n",
              "      <td>11</td>\n",
              "      <td>5</td>\n",
              "      <td>220</td>\n",
              "      <td>1</td>\n",
              "      <td>339</td>\n",
              "      <td>4</td>\n",
              "      <td>0</td>\n",
              "      <td>0</td>\n",
              "    </tr>\n",
              "    <tr>\n",
              "      <th>2</th>\n",
              "      <td>35</td>\n",
              "      <td>4</td>\n",
              "      <td>0</td>\n",
              "      <td>2</td>\n",
              "      <td>0</td>\n",
              "      <td>1350</td>\n",
              "      <td>1</td>\n",
              "      <td>0</td>\n",
              "      <td>0</td>\n",
              "      <td>16</td>\n",
              "      <td>4</td>\n",
              "      <td>185</td>\n",
              "      <td>1</td>\n",
              "      <td>330</td>\n",
              "      <td>1</td>\n",
              "      <td>0</td>\n",
              "      <td>0</td>\n",
              "    </tr>\n",
              "    <tr>\n",
              "      <th>3</th>\n",
              "      <td>30</td>\n",
              "      <td>4</td>\n",
              "      <td>1</td>\n",
              "      <td>2</td>\n",
              "      <td>0</td>\n",
              "      <td>1476</td>\n",
              "      <td>1</td>\n",
              "      <td>1</td>\n",
              "      <td>2</td>\n",
              "      <td>3</td>\n",
              "      <td>6</td>\n",
              "      <td>199</td>\n",
              "      <td>4</td>\n",
              "      <td>-1</td>\n",
              "      <td>0</td>\n",
              "      <td>3</td>\n",
              "      <td>0</td>\n",
              "    </tr>\n",
              "    <tr>\n",
              "      <th>4</th>\n",
              "      <td>59</td>\n",
              "      <td>1</td>\n",
              "      <td>1</td>\n",
              "      <td>1</td>\n",
              "      <td>0</td>\n",
              "      <td>0</td>\n",
              "      <td>1</td>\n",
              "      <td>0</td>\n",
              "      <td>2</td>\n",
              "      <td>5</td>\n",
              "      <td>5</td>\n",
              "      <td>226</td>\n",
              "      <td>1</td>\n",
              "      <td>-1</td>\n",
              "      <td>0</td>\n",
              "      <td>3</td>\n",
              "      <td>0</td>\n",
              "    </tr>\n",
              "    <tr>\n",
              "      <th>...</th>\n",
              "      <td>...</td>\n",
              "      <td>...</td>\n",
              "      <td>...</td>\n",
              "      <td>...</td>\n",
              "      <td>...</td>\n",
              "      <td>...</td>\n",
              "      <td>...</td>\n",
              "      <td>...</td>\n",
              "      <td>...</td>\n",
              "      <td>...</td>\n",
              "      <td>...</td>\n",
              "      <td>...</td>\n",
              "      <td>...</td>\n",
              "      <td>...</td>\n",
              "      <td>...</td>\n",
              "      <td>...</td>\n",
              "      <td>...</td>\n",
              "    </tr>\n",
              "    <tr>\n",
              "      <th>4516</th>\n",
              "      <td>33</td>\n",
              "      <td>7</td>\n",
              "      <td>1</td>\n",
              "      <td>1</td>\n",
              "      <td>0</td>\n",
              "      <td>-333</td>\n",
              "      <td>1</td>\n",
              "      <td>0</td>\n",
              "      <td>0</td>\n",
              "      <td>30</td>\n",
              "      <td>7</td>\n",
              "      <td>329</td>\n",
              "      <td>5</td>\n",
              "      <td>-1</td>\n",
              "      <td>0</td>\n",
              "      <td>3</td>\n",
              "      <td>0</td>\n",
              "    </tr>\n",
              "    <tr>\n",
              "      <th>4517</th>\n",
              "      <td>57</td>\n",
              "      <td>6</td>\n",
              "      <td>1</td>\n",
              "      <td>2</td>\n",
              "      <td>1</td>\n",
              "      <td>-3313</td>\n",
              "      <td>1</td>\n",
              "      <td>1</td>\n",
              "      <td>2</td>\n",
              "      <td>9</td>\n",
              "      <td>5</td>\n",
              "      <td>153</td>\n",
              "      <td>1</td>\n",
              "      <td>-1</td>\n",
              "      <td>0</td>\n",
              "      <td>3</td>\n",
              "      <td>0</td>\n",
              "    </tr>\n",
              "    <tr>\n",
              "      <th>4518</th>\n",
              "      <td>57</td>\n",
              "      <td>9</td>\n",
              "      <td>1</td>\n",
              "      <td>1</td>\n",
              "      <td>0</td>\n",
              "      <td>295</td>\n",
              "      <td>0</td>\n",
              "      <td>0</td>\n",
              "      <td>0</td>\n",
              "      <td>19</td>\n",
              "      <td>8</td>\n",
              "      <td>151</td>\n",
              "      <td>11</td>\n",
              "      <td>-1</td>\n",
              "      <td>0</td>\n",
              "      <td>3</td>\n",
              "      <td>0</td>\n",
              "    </tr>\n",
              "    <tr>\n",
              "      <th>4519</th>\n",
              "      <td>28</td>\n",
              "      <td>1</td>\n",
              "      <td>1</td>\n",
              "      <td>1</td>\n",
              "      <td>0</td>\n",
              "      <td>1137</td>\n",
              "      <td>0</td>\n",
              "      <td>0</td>\n",
              "      <td>0</td>\n",
              "      <td>6</td>\n",
              "      <td>2</td>\n",
              "      <td>129</td>\n",
              "      <td>4</td>\n",
              "      <td>211</td>\n",
              "      <td>3</td>\n",
              "      <td>1</td>\n",
              "      <td>0</td>\n",
              "    </tr>\n",
              "    <tr>\n",
              "      <th>4520</th>\n",
              "      <td>44</td>\n",
              "      <td>2</td>\n",
              "      <td>0</td>\n",
              "      <td>2</td>\n",
              "      <td>0</td>\n",
              "      <td>1136</td>\n",
              "      <td>1</td>\n",
              "      <td>1</td>\n",
              "      <td>0</td>\n",
              "      <td>3</td>\n",
              "      <td>4</td>\n",
              "      <td>345</td>\n",
              "      <td>2</td>\n",
              "      <td>249</td>\n",
              "      <td>7</td>\n",
              "      <td>1</td>\n",
              "      <td>0</td>\n",
              "    </tr>\n",
              "  </tbody>\n",
              "</table>\n",
              "<p>4521 rows × 17 columns</p>\n",
              "</div>"
            ],
            "text/plain": [
              "      age  job  marital  education  default  balance  housing  loan  contact  \\\n",
              "0      30   10        1          0        0     1787        0     0        0   \n",
              "1      33    7        1          1        0     4789        1     1        0   \n",
              "2      35    4        0          2        0     1350        1     0        0   \n",
              "3      30    4        1          2        0     1476        1     1        2   \n",
              "4      59    1        1          1        0        0        1     0        2   \n",
              "...   ...  ...      ...        ...      ...      ...      ...   ...      ...   \n",
              "4516   33    7        1          1        0     -333        1     0        0   \n",
              "4517   57    6        1          2        1    -3313        1     1        2   \n",
              "4518   57    9        1          1        0      295        0     0        0   \n",
              "4519   28    1        1          1        0     1137        0     0        0   \n",
              "4520   44    2        0          2        0     1136        1     1        0   \n",
              "\n",
              "      day  month  duration  campaign  pdays  previous  poutcome  y  \n",
              "0      19     10        79         1     -1         0         3  0  \n",
              "1      11      5       220         1    339         4         0  0  \n",
              "2      16      4       185         1    330         1         0  0  \n",
              "3       3      6       199         4     -1         0         3  0  \n",
              "4       5      5       226         1     -1         0         3  0  \n",
              "...   ...    ...       ...       ...    ...       ...       ... ..  \n",
              "4516   30      7       329         5     -1         0         3  0  \n",
              "4517    9      5       153         1     -1         0         3  0  \n",
              "4518   19      8       151        11     -1         0         3  0  \n",
              "4519    6      2       129         4    211         3         1  0  \n",
              "4520    3      4       345         2    249         7         1  0  \n",
              "\n",
              "[4521 rows x 17 columns]"
            ]
          },
          "execution_count": 29,
          "metadata": {},
          "output_type": "execute_result"
        }
      ],
      "source": [
        "df"
      ]
    },
    {
      "cell_type": "code",
      "execution_count": null,
      "metadata": {
        "colab": {
          "base_uri": "https://localhost:8080/"
        },
        "id": "33RrQ8MzSX38",
        "outputId": "d59a95fd-c6da-440f-e258-4894d68e1a6a"
      },
      "outputs": [
        {
          "data": {
            "text/plain": [
              "age          int64\n",
              "job          int64\n",
              "marital      int64\n",
              "education    int64\n",
              "default      int64\n",
              "balance      int64\n",
              "housing      int64\n",
              "loan         int64\n",
              "contact      int64\n",
              "day          int64\n",
              "month        int64\n",
              "duration     int64\n",
              "campaign     int64\n",
              "pdays        int64\n",
              "previous     int64\n",
              "poutcome     int64\n",
              "y            int64\n",
              "dtype: object"
            ]
          },
          "execution_count": 30,
          "metadata": {},
          "output_type": "execute_result"
        }
      ],
      "source": [
        "df.dtypes"
      ]
    },
    {
      "cell_type": "code",
      "execution_count": null,
      "metadata": {
        "id": "_-l10NRJkpyW"
      },
      "outputs": [],
      "source": [
        "df[:] = df[:].astype(\"int64\")"
      ]
    },
    {
      "cell_type": "code",
      "execution_count": null,
      "metadata": {
        "colab": {
          "base_uri": "https://localhost:8080/"
        },
        "id": "XFsGJDDYkztb",
        "outputId": "719314e5-208e-4130-a20b-bc270f0baefe"
      },
      "outputs": [
        {
          "data": {
            "text/plain": [
              "age          int64\n",
              "job          int64\n",
              "marital      int64\n",
              "education    int64\n",
              "default      int64\n",
              "balance      int64\n",
              "housing      int64\n",
              "loan         int64\n",
              "contact      int64\n",
              "day          int64\n",
              "month        int64\n",
              "duration     int64\n",
              "campaign     int64\n",
              "pdays        int64\n",
              "previous     int64\n",
              "poutcome     int64\n",
              "y            int64\n",
              "dtype: object"
            ]
          },
          "execution_count": 32,
          "metadata": {},
          "output_type": "execute_result"
        }
      ],
      "source": [
        "df.dtypes"
      ]
    },
    {
      "cell_type": "code",
      "execution_count": null,
      "metadata": {
        "colab": {
          "base_uri": "https://localhost:8080/"
        },
        "id": "zb6kJog7SU8V",
        "outputId": "81a737f0-8bf4-48f8-af1f-2d5f954b117f"
      },
      "outputs": [
        {
          "data": {
            "text/plain": [
              "False"
            ]
          },
          "execution_count": 33,
          "metadata": {},
          "output_type": "execute_result"
        }
      ],
      "source": [
        "#after lunch - check for missing numbers\n",
        "\n",
        "df.isnull().values.any()"
      ]
    },
    {
      "cell_type": "code",
      "execution_count": null,
      "metadata": {
        "colab": {
          "base_uri": "https://localhost:8080/"
        },
        "id": "dwOKosJ5d5E-",
        "outputId": "1a9b374a-5510-4806-8bf4-0d7221fa49c5"
      },
      "outputs": [
        {
          "data": {
            "text/plain": [
              "age          0\n",
              "job          0\n",
              "marital      0\n",
              "education    0\n",
              "default      0\n",
              "balance      0\n",
              "housing      0\n",
              "loan         0\n",
              "contact      0\n",
              "day          0\n",
              "month        0\n",
              "duration     0\n",
              "campaign     0\n",
              "pdays        0\n",
              "previous     0\n",
              "poutcome     0\n",
              "y            0\n",
              "dtype: int64"
            ]
          },
          "execution_count": 34,
          "metadata": {},
          "output_type": "execute_result"
        }
      ],
      "source": [
        "df.isnull().sum() #so everything has a value"
      ]
    },
    {
      "cell_type": "code",
      "execution_count": null,
      "metadata": {
        "colab": {
          "base_uri": "https://localhost:8080/",
          "height": 432
        },
        "id": "UjEIllfJh4JT",
        "outputId": "62879e15-c8e1-4275-c646-0df2d305cab5"
      },
      "outputs": [
        {
          "data": {
            "image/png": "[encoded data removed]",
            "text/plain": [
              "<Figure size 640x480 with 20 Axes>"
            ]
          },
          "metadata": {},
          "output_type": "display_data"
        }
      ],
      "source": [
        "df.plot(kind = \"box\", subplots = True, layout = (5,4), sharex = False, sharey = False)\n",
        "plt.show()"
      ]
    },
    {
      "cell_type": "code",
      "execution_count": null,
      "metadata": {
        "colab": {
          "base_uri": "https://localhost:8080/",
          "height": 452
        },
        "id": "d1mMt9wnic92",
        "outputId": "ccd5d331-aeb3-4371-8793-df6c2c5a2d05"
      },
      "outputs": [
        {
          "data": {
            "image/png": "[encoded data removed]",
            "text/plain": [
              "<Figure size 640x480 with 20 Axes>"
            ]
          },
          "metadata": {},
          "output_type": "display_data"
        }
      ],
      "source": [
        "df.hist()\n",
        "plt.show()"
      ]
    },
    {
      "cell_type": "code",
      "execution_count": null,
      "metadata": {
        "colab": {
          "base_uri": "https://localhost:8080/"
        },
        "id": "X5D-3pf9kHHa",
        "outputId": "3c6b7a6a-ab01-4be8-a0b8-18f5278e8714"
      },
      "outputs": [
        {
          "name": "stdout",
          "output_type": "stream",
          "text": [
            "               age          job      marital    education      default  \\\n",
            "count  4521.000000  4521.000000  4521.000000  4521.000000  4521.000000   \n",
            "mean     41.170095     4.411192     0.852245     1.231365     0.016810   \n",
            "std      10.576211     3.255716     0.599650     0.748744     0.128575   \n",
            "min      19.000000     0.000000     0.000000     0.000000     0.000000   \n",
            "25%      33.000000     1.000000     0.000000     1.000000     0.000000   \n",
            "50%      39.000000     4.000000     1.000000     1.000000     0.000000   \n",
            "75%      49.000000     7.000000     1.000000     2.000000     0.000000   \n",
            "max      87.000000    11.000000     2.000000     3.000000     1.000000   \n",
            "\n",
            "            balance      housing         loan      contact          day  \\\n",
            "count   4521.000000  4521.000000  4521.000000  4521.000000  4521.000000   \n",
            "mean    1422.657819     0.566025     0.152842     0.652289    15.915284   \n",
            "std     3009.638142     0.495676     0.359875     0.901498     8.247667   \n",
            "min    -3313.000000     0.000000     0.000000     0.000000     1.000000   \n",
            "25%       69.000000     0.000000     0.000000     0.000000     9.000000   \n",
            "50%      444.000000     1.000000     0.000000     0.000000    16.000000   \n",
            "75%     1480.000000     1.000000     0.000000     2.000000    21.000000   \n",
            "max    71188.000000     1.000000     1.000000     2.000000    31.000000   \n",
            "\n",
            "             month     duration     campaign        pdays     previous  \\\n",
            "count  4521.000000  4521.000000  4521.000000  4521.000000  4521.000000   \n",
            "mean      6.166777   263.961292     2.793630    39.766645     0.542579   \n",
            "std       2.378380   259.856633     3.109807   100.121124     1.693562   \n",
            "min       1.000000     4.000000     1.000000    -1.000000     0.000000   \n",
            "25%       5.000000   104.000000     1.000000    -1.000000     0.000000   \n",
            "50%       6.000000   185.000000     2.000000    -1.000000     0.000000   \n",
            "75%       8.000000   329.000000     3.000000    -1.000000     0.000000   \n",
            "max      12.000000  3025.000000    50.000000   871.000000    25.000000   \n",
            "\n",
            "          poutcome            y  \n",
            "count  4521.000000  4521.000000  \n",
            "mean      2.559168     0.115240  \n",
            "std       0.992051     0.319347  \n",
            "min       0.000000     0.000000  \n",
            "25%       3.000000     0.000000  \n",
            "50%       3.000000     0.000000  \n",
            "75%       3.000000     0.000000  \n",
            "max       3.000000     1.000000  \n"
          ]
        }
      ],
      "source": [
        "print(df.describe())"
      ]
    },
    {
      "cell_type": "code",
      "execution_count": null,
      "metadata": {
        "id": "3BOseIEDeJZO"
      },
      "outputs": [],
      "source": [
        "#I'm remembering random stuff - with regression, run the model with all and then look at the significant betas and then drop those and run again?\n",
        "## had trouble following the examples for regression, with 17 x variables\n",
        "\n",
        "import numpy as np\n",
        "from sklearn.model_selection import train_test_split\n",
        "from sklearn.linear_model import LinearRegression\n"
      ]
    },
    {
      "cell_type": "code",
      "execution_count": null,
      "metadata": {
        "colab": {
          "base_uri": "https://localhost:8080/"
        },
        "id": "_kN2x-4XmBkK",
        "outputId": "7b230469-ca3e-4b10-b643-15a6a2789e83"
      },
      "outputs": [
        {
          "name": "stdout",
          "output_type": "stream",
          "text": [
            "[[ 30  10   1 ...  -1   0   3]\n",
            " [ 33   7   1 ... 339   4   0]\n",
            " [ 35   4   0 ... 330   1   0]\n",
            " ...\n",
            " [ 57   9   1 ...  -1   0   3]\n",
            " [ 28   1   1 ... 211   3   1]\n",
            " [ 44   2   0 ... 249   7   1]]\n"
          ]
        },
        {
          "data": {
            "text/plain": [
              "(4521, 16)"
            ]
          },
          "execution_count": 39,
          "metadata": {},
          "output_type": "execute_result"
        }
      ],
      "source": [
        "#need to mak it an array?\n",
        "\n",
        "\n",
        "\n",
        "arrayX = df[[\"age\", \"job\", \"marital\", \"education\", \"default\",\n",
        "            \"balance\",\t\"housing\",\t\"loan\",\t\"contact\",\t\"day\",\n",
        "            \"month\",\t\"duration\",\t\"campaign\",\t\"pdays\",\t\"previous\",\t\"poutcome\"]].to_numpy()\n",
        "\n",
        "print(arrayX)\n",
        "arrayX.shape"
      ]
    },
    {
      "cell_type": "code",
      "execution_count": null,
      "metadata": {
        "colab": {
          "base_uri": "https://localhost:8080/"
        },
        "id": "uA_stk0Up_aE",
        "outputId": "bf908c34-e524-4656-db54-bfa6c33c09f8"
      },
      "outputs": [
        {
          "name": "stdout",
          "output_type": "stream",
          "text": [
            "[0 0 0 ... 0 0 0]\n"
          ]
        },
        {
          "data": {
            "text/plain": [
              "(4521,)"
            ]
          },
          "execution_count": 40,
          "metadata": {},
          "output_type": "execute_result"
        }
      ],
      "source": [
        "arrayY = df[\"y\"].to_numpy()\n",
        "print(arrayY)\n",
        "arrayY.shape"
      ]
    },
    {
      "cell_type": "code",
      "execution_count": null,
      "metadata": {
        "colab": {
          "base_uri": "https://localhost:8080/"
        },
        "id": "oeDJPEIYl-Zz",
        "outputId": "5fed7299-df8b-4ba2-9eb6-55adbcbe874e"
      },
      "outputs": [
        {
          "name": "stdout",
          "output_type": "stream",
          "text": [
            "[[ 40   4   1 ...  -1   0   3]\n",
            " [ 46   1   1 ...  -1   0   3]\n",
            " [ 40   3   1 ...  -1   0   3]\n",
            " ...\n",
            " [ 46   4   1 ... 366   2   0]\n",
            " [ 47   4   0 ...  -1   0   3]\n",
            " [ 58   1   1 ...  -1   0   3]] [0 0 0 ... 0 0 0]\n",
            "(4068, 16)\n",
            "(4068,)\n"
          ]
        }
      ],
      "source": [
        "\n",
        "# Split the data into training and testing sets\n",
        "X_train, X_test, y_train, y_test = train_test_split(arrayX, arrayY, test_size=0.1, random_state = 42)\n",
        "print(X_train, y_train)\n",
        "print(X_train.shape)\n",
        "print(y_train.shape)\n"
      ]
    },
    {
      "cell_type": "code",
      "execution_count": null,
      "metadata": {
        "colab": {
          "base_uri": "https://localhost:8080/",
          "height": 341
        },
        "id": "IGZVbPkauSRe",
        "outputId": "2e9365a9-522f-4edd-e799-10dd62f365bb"
      },
      "outputs": [
        {
          "data": {
            "text/plain": [
              "'\\n\\n# Create the model\\n\\nfrom pylab import *\\nfrom numpy import *\\nfrom scipy.stats import *\\n\\nslope, intercept, r_value, p_value, slope_std_error = stats.linregress(X_train, y_train)\\n\\nthis threw an error, went looking for a generalized version. Will still need to test and print the confusion materices '"
            ]
          },
          "execution_count": 43,
          "metadata": {},
          "output_type": "execute_result"
        }
      ],
      "source": [
        "'''\n",
        "\n",
        "# Create the model\n",
        "\n",
        "from pylab import *\n",
        "from numpy import *\n",
        "from scipy.stats import *\n",
        "\n",
        "slope, intercept, r_value, p_value, slope_std_error = stats.linregress(X_train, y_train)\n",
        "\n",
        "this threw an error, went looking for a generalized version. Will still need to test and print the confusion materices '''"
      ]
    },
    {
      "cell_type": "code",
      "execution_count": null,
      "metadata": {
        "id": "Je6R74jTq3Wh"
      },
      "outputs": [],
      "source": [
        "#from google\n",
        "\n",
        "# Fit the model to the training data\n",
        "#y1=  model.fit(X_train, y_train)\n",
        "\n",
        "# Evaluate the model on the testing data\n",
        "#score = model.score(X_test, y_test)\n",
        "\n",
        "# Make predictions\n",
        "\n",
        "#predictions = model.predict(X_test)\n",
        "\n",
        "#print (y1, score)"
      ]
    },
    {
      "cell_type": "code",
      "execution_count": null,
      "metadata": {
        "id": "GY8a5S_VyA8P"
      },
      "outputs": [],
      "source": [
        "#here's an example with he dataframe but without the breakout for training\n",
        "\n",
        "# from https://www.w3schools.com/python/python_ml_multiple_regression.asp\n",
        "\n",
        "X = df[[\"age\", \"job\", \"marital\", \"education\", \"default\",\n",
        "            \"balance\",\t\"housing\",\t\"loan\",\t\"contact\",\t\"day\",\n",
        "            \"month\",\t\"duration\",\t\"campaign\",\t\"pdays\",\t\"previous\",\t\"poutcome\"]]\n",
        "y = df[\"y\"]"
      ]
    },
    {
      "cell_type": "code",
      "execution_count": null,
      "metadata": {
        "id": "WLiAF131yRGu"
      },
      "outputs": [],
      "source": [
        "from sklearn import linear_model"
      ]
    },
    {
      "cell_type": "code",
      "execution_count": null,
      "metadata": {
        "colab": {
          "base_uri": "https://localhost:8080/",
          "height": 75
        },
        "id": "nrB4FfSIySrf",
        "outputId": "7f569964-e519-49a4-e68c-95c1c37e97eb"
      },
      "outputs": [
        {
          "data": {
            "text/html": [
              "<style>#sk-container-id-1 {color: black;}#sk-container-id-1 pre{padding: 0;}#sk-container-id-1 div.sk-toggleable {background-color: white;}#sk-container-id-1 label.sk-toggleable__label {cursor: pointer;display: block;width: 100%;margin-bottom: 0;padding: 0.3em;box-sizing: border-box;text-align: center;}#sk-container-id-1 label.sk-toggleable__label-arrow:before {content: \"▸\";float: left;margin-right: 0.25em;color: #696969;}#sk-container-id-1 label.sk-toggleable__label-arrow:hover:before {color: black;}#sk-container-id-1 div.sk-estimator:hover label.sk-toggleable__label-arrow:before {color: black;}#sk-container-id-1 div.sk-toggleable__content {max-height: 0;max-width: 0;overflow: hidden;text-align: left;background-color: #f0f8ff;}#sk-container-id-1 div.sk-toggleable__content pre {margin: 0.2em;color: black;border-radius: 0.25em;background-color: #f0f8ff;}#sk-container-id-1 input.sk-toggleable__control:checked~div.sk-toggleable__content {max-height: 200px;max-width: 100%;overflow: auto;}#sk-container-id-1 input.sk-toggleable__control:checked~label.sk-toggleable__label-arrow:before {content: \"▾\";}#sk-container-id-1 div.sk-estimator input.sk-toggleable__control:checked~label.sk-toggleable__label {background-color: #d4ebff;}#sk-container-id-1 div.sk-label input.sk-toggleable__control:checked~label.sk-toggleable__label {background-color: #d4ebff;}#sk-container-id-1 input.sk-hidden--visually {border: 0;clip: rect(1px 1px 1px 1px);clip: rect(1px, 1px, 1px, 1px);height: 1px;margin: -1px;overflow: hidden;padding: 0;position: absolute;width: 1px;}#sk-container-id-1 div.sk-estimator {font-family: monospace;background-color: #f0f8ff;border: 1px dotted black;border-radius: 0.25em;box-sizing: border-box;margin-bottom: 0.5em;}#sk-container-id-1 div.sk-estimator:hover {background-color: #d4ebff;}#sk-container-id-1 div.sk-parallel-item::after {content: \"\";width: 100%;border-bottom: 1px solid gray;flex-grow: 1;}#sk-container-id-1 div.sk-label:hover label.sk-toggleable__label {background-color: #d4ebff;}#sk-container-id-1 div.sk-serial::before {content: \"\";position: absolute;border-left: 1px solid gray;box-sizing: border-box;top: 0;bottom: 0;left: 50%;z-index: 0;}#sk-container-id-1 div.sk-serial {display: flex;flex-direction: column;align-items: center;background-color: white;padding-right: 0.2em;padding-left: 0.2em;position: relative;}#sk-container-id-1 div.sk-item {position: relative;z-index: 1;}#sk-container-id-1 div.sk-parallel {display: flex;align-items: stretch;justify-content: center;background-color: white;position: relative;}#sk-container-id-1 div.sk-item::before, #sk-container-id-1 div.sk-parallel-item::before {content: \"\";position: absolute;border-left: 1px solid gray;box-sizing: border-box;top: 0;bottom: 0;left: 50%;z-index: -1;}#sk-container-id-1 div.sk-parallel-item {display: flex;flex-direction: column;z-index: 1;position: relative;background-color: white;}#sk-container-id-1 div.sk-parallel-item:first-child::after {align-self: flex-end;width: 50%;}#sk-container-id-1 div.sk-parallel-item:last-child::after {align-self: flex-start;width: 50%;}#sk-container-id-1 div.sk-parallel-item:only-child::after {width: 0;}#sk-container-id-1 div.sk-dashed-wrapped {border: 1px dashed gray;margin: 0 0.4em 0.5em 0.4em;box-sizing: border-box;padding-bottom: 0.4em;background-color: white;}#sk-container-id-1 div.sk-label label {font-family: monospace;font-weight: bold;display: inline-block;line-height: 1.2em;}#sk-container-id-1 div.sk-label-container {text-align: center;}#sk-container-id-1 div.sk-container {/* jupyter's `normalize.less` sets `[hidden] { display: none; }` but bootstrap.min.css set `[hidden] { display: none !important; }` so we also need the `!important` here to be able to override the default hidden behavior on the sphinx rendered scikit-learn.org. See: https://github.com/scikit-learn/scikit-learn/issues/21755 */display: inline-block !important;position: relative;}#sk-container-id-1 div.sk-text-repr-fallback {display: none;}</style><div id=\"sk-container-id-1\" class=\"sk-top-container\"><div class=\"sk-text-repr-fallback\"><pre>LinearRegression()</pre><b>In a Jupyter environment, please rerun this cell to show the HTML representation or trust the notebook. <br />On GitHub, the HTML representation is unable to render, please try loading this page with nbviewer.org.</b></div><div class=\"sk-container\" hidden><div class=\"sk-item\"><div class=\"sk-estimator sk-toggleable\"><input class=\"sk-toggleable__control sk-hidden--visually\" id=\"sk-estimator-id-1\" type=\"checkbox\" checked><label for=\"sk-estimator-id-1\" class=\"sk-toggleable__label sk-toggleable__label-arrow\">LinearRegression</label><div class=\"sk-toggleable__content\"><pre>LinearRegression()</pre></div></div></div></div></div>"
            ],
            "text/plain": [
              "LinearRegression()"
            ]
          },
          "execution_count": 47,
          "metadata": {},
          "output_type": "execute_result"
        }
      ],
      "source": [
        "regr = linear_model.LinearRegression()\n",
        "regr.fit(X, y)"
      ]
    },
    {
      "cell_type": "code",
      "execution_count": null,
      "metadata": {
        "colab": {
          "base_uri": "https://localhost:8080/"
        },
        "id": "ycVe0fzRybgG",
        "outputId": "9d319ee8-df91-425e-aa64-2798a431460c"
      },
      "outputs": [
        {
          "name": "stdout",
          "output_type": "stream",
          "text": [
            "[ 1.15971420e-03  5.26288247e-04 -5.06064816e-03  1.27199617e-02\n",
            "  3.62790709e-02  1.02323782e-06 -5.76378802e-02 -5.46185679e-02\n",
            " -3.13806203e-02  2.42323549e-04 -3.07284031e-04  4.88740048e-04\n",
            " -2.67986827e-03  3.56697653e-04  1.57922781e-02  2.81377980e-02]\n"
          ]
        }
      ],
      "source": [
        "print(regr.coef_)"
      ]
    },
    {
      "cell_type": "code",
      "execution_count": null,
      "metadata": {
        "colab": {
          "base_uri": "https://localhost:8080/"
        },
        "id": "SfAxAME1yeEk",
        "outputId": "7d5be7ba-470d-41da-f99d-7543853c73b8"
      },
      "outputs": [
        {
          "name": "stdout",
          "output_type": "stream",
          "text": [
            "            0     Coefs\n",
            "0         age  0.001160\n",
            "1         job  0.000526\n",
            "2     marital -0.005061\n",
            "3   education  0.012720\n",
            "4     default  0.036279\n",
            "5     balance  0.000001\n",
            "6     housing -0.057638\n",
            "7        loan -0.054619\n",
            "8     contact -0.031381\n",
            "9         day  0.000242\n",
            "10      month -0.000307\n",
            "11   duration  0.000489\n",
            "12   campaign -0.002680\n",
            "13      pdays  0.000357\n",
            "14   previous  0.015792\n",
            "15   poutcome  0.028138\n"
          ]
        }
      ],
      "source": [
        "coef_table = pd.DataFrame(list(X.columns)).copy()\n",
        "coef_table.insert(len(coef_table.columns),\"Coefs\",regr.coef_.transpose())\n",
        "print(coef_table)\n",
        "\n",
        "#from https://stackoverflow.com/questions/34649969/how-to-find-the-features-names-of-the-coefficients-using-scikit-linear-regressio/62168127#62168127"
      ]
    },
    {
      "cell_type": "code",
      "execution_count": null,
      "metadata": {
        "id": "FPTvik9Dzhkz"
      },
      "outputs": [],
      "source": [
        "#now from the slides, slide 25\n",
        "reg = LinearRegression().fit(X, y)"
      ]
    },
    {
      "cell_type": "code",
      "execution_count": null,
      "metadata": {
        "colab": {
          "base_uri": "https://localhost:8080/"
        },
        "id": "NOWHhjLz4ZvE",
        "outputId": "8fde25fe-55f2-492b-cc3d-ec13f2ce7bc2"
      },
      "outputs": [
        {
          "data": {
            "text/plain": [
              "0.20422234166354247"
            ]
          },
          "execution_count": 51,
          "metadata": {},
          "output_type": "execute_result"
        }
      ],
      "source": [
        "reg.score(X, y)"
      ]
    },
    {
      "cell_type": "code",
      "execution_count": null,
      "metadata": {
        "colab": {
          "base_uri": "https://localhost:8080/"
        },
        "id": "8i_Irlul4c81",
        "outputId": "a838072b-6279-4ec4-fefc-43aaeef12ff3"
      },
      "outputs": [
        {
          "data": {
            "text/plain": [
              "-0.10504711231376485"
            ]
          },
          "execution_count": 52,
          "metadata": {},
          "output_type": "execute_result"
        }
      ],
      "source": [
        "reg.intercept_ #this is funny because the y should be between zero and one, right?  Will circle back on this one, I think."
      ]
    },
    {
      "cell_type": "code",
      "execution_count": null,
      "metadata": {
        "colab": {
          "base_uri": "https://localhost:8080/"
        },
        "id": "eaaZS4eJ5k-5",
        "outputId": "cc34df16-3037-4c20-8fe2-faf2bce20739"
      },
      "outputs": [
        {
          "name": "stdout",
          "output_type": "stream",
          "text": [
            "[[ 40   4   1 ...  -1   0   3]\n",
            " [ 46   1   1 ...  -1   0   3]\n",
            " [ 40   3   1 ...  -1   0   3]\n",
            " ...\n",
            " [ 46   4   1 ... 366   2   0]\n",
            " [ 47   4   0 ...  -1   0   3]\n",
            " [ 58   1   1 ...  -1   0   3]] [0 0 0 ... 0 0 0]\n",
            "0.8879062223889811 0.020418813913971053\n"
          ]
        }
      ],
      "source": [
        "#moving on to logistic regression\n",
        "#estimate model using logistic regression\n",
        "#needed to up the iterations from the example on the slides\n",
        "\n",
        "# Split the data into training and testing sets (use this breakout everywhere?)\n",
        "X_train, X_test, y_train, y_test = train_test_split(arrayX, arrayY, test_size=0.1, random_state = 42)\n",
        "print(X_train, y_train)\n",
        "\n",
        "\n",
        "kfold = model_selection.KFold(n_splits= 10, shuffle = False)\n",
        "cv_results = model_selection.cross_val_score(LogisticRegression(solver=\"lbfgs\", max_iter = 10000), X_train, y_train, cv=kfold, scoring = \"accuracy\")\n",
        "\n",
        "print(cv_results.mean(), cv_results.std())\n",
        "\n",
        "#when run, cross validation mean is 0.88578, std is 0.0224"
      ]
    },
    {
      "cell_type": "code",
      "execution_count": null,
      "metadata": {
        "colab": {
          "base_uri": "https://localhost:8080/"
        },
        "id": "aQ7IuCtv67C2",
        "outputId": "e9169ccf-3d29-4d21-840d-615eb42143cd"
      },
      "outputs": [
        {
          "data": {
            "text/plain": [
              "0.8962472406181016"
            ]
          },
          "execution_count": 54,
          "metadata": {},
          "output_type": "execute_result"
        }
      ],
      "source": [
        "logistic = LogisticRegression(solver = \"lbfgs\", max_iter = 10000)\n",
        "logistic.fit(X_train, y_train).score(X_test, y_test)"
      ]
    },
    {
      "cell_type": "code",
      "execution_count": null,
      "metadata": {
        "id": "mIVgEcmb8_5Z"
      },
      "outputs": [],
      "source": [
        "subs_y_pred = logistic.predict(X_test)"
      ]
    },
    {
      "cell_type": "code",
      "execution_count": null,
      "metadata": {
        "colab": {
          "base_uri": "https://localhost:8080/"
        },
        "id": "ybphUO7K9PiW",
        "outputId": "11b54d49-4207-410c-de18-291f8a3272c1"
      },
      "outputs": [
        {
          "name": "stdout",
          "output_type": "stream",
          "text": [
            "[0 0 0 0 0 0 0 0 0 0 0 0 0 1 0 0 0 0 0 0 0 0 0 0 0 0 0 1 0 0 0 0 0 0 0 0 0\n",
            " 0 0 0 0 0 0 0 0 0 0 0 0 0 0 0 0 0 0 0 1 0 0 0 0 0 0 0 0 0 0 0 0 0 0 0 0 0\n",
            " 0 0 0 0 0 0 0 0 0 0 0 0 0 0 0 0 0 0 0 0 0 0 0 0 0 0 0 0 0 0 0 0 0 0 0 0 0\n",
            " 0 0 0 0 0 1 1 0 0 0 0 0 0 0 0 0 0 0 0 0 0 0 0 0 0 0 0 0 0 0 0 0 0 0 0 0 0\n",
            " 0 0 0 0 0 0 0 0 0 0 0 0 0 0 0 0 0 0 1 0 0 1 0 0 0 0 0 0 0 0 0 0 0 0 0 0 0\n",
            " 0 0 0 0 0 0 0 0 0 0 0 0 0 0 0 0 0 1 0 0 0 0 0 0 0 0 0 0 0 0 0 0 0 0 0 0 0\n",
            " 0 0 0 0 0 0 0 0 0 0 0 1 0 0 0 0 0 0 0 1 0 0 0 0 0 0 0 0 0 1 0 0 0 0 0 0 0\n",
            " 0 0 0 0 0 0 0 0 0 0 0 0 0 0 0 0 0 0 0 0 0 0 0 0 0 0 0 0 0 0 0 0 0 0 0 0 0\n",
            " 0 0 0 0 0 0 0 0 0 0 0 0 0 0 0 0 0 0 0 0 0 0 0 1 0 0 0 0 0 1 0 0 0 0 0 0 0\n",
            " 0 0 0 0 0 0 0 0 0 1 0 0 0 0 0 0 0 0 0 0 0 0 0 0 0 0 0 0 0 0 0 0 0 0 0 0 0\n",
            " 0 0 0 1 0 0 0 0 0 0 0 0 0 0 0 0 0 0 0 0 0 0 0 0 0 0 0 0 0 0 0 0 0 0 0 0 0\n",
            " 0 0 0 0 0 0 0 0 0 0 0 0 0 0 0 0 0 0 0 0 0 0 0 0 0 0 0 0 0 0 0 0 0 0 1 0 0\n",
            " 0 0 0 0 0 0 0 0 0]\n"
          ]
        }
      ],
      "source": [
        "print(subs_y_pred)"
      ]
    },
    {
      "cell_type": "code",
      "execution_count": null,
      "metadata": {
        "id": "8Ivdgl4V9Rl2"
      },
      "outputs": [],
      "source": [
        "subs_y_prob = logistic.predict_proba(X_test)"
      ]
    },
    {
      "cell_type": "code",
      "execution_count": null,
      "metadata": {
        "id": "bVrP9VuL9fsW"
      },
      "outputs": [],
      "source": [
        "## print(subs_y_prob)"
      ]
    },
    {
      "cell_type": "code",
      "execution_count": null,
      "metadata": {
        "colab": {
          "base_uri": "https://localhost:8080/",
          "height": 470
        },
        "id": "sIiF8P6c9h12",
        "outputId": "dc0012b4-2588-4564-a990-cc58011997d3"
      },
      "outputs": [
        {
          "name": "stdout",
          "output_type": "stream",
          "text": [
            "[[0.8785872  0.01766004]\n",
            " [0.08609272 0.01766004]]\n"
          ]
        },
        {
          "data": {
            "image/png": "[encoded data removed]",
            "text/plain": [
              "<Figure size 640x480 with 2 Axes>"
            ]
          },
          "metadata": {},
          "output_type": "display_data"
        }
      ],
      "source": [
        "cm = confusion_matrix(y_test, subs_y_pred, normalize = \"all\")\n",
        "print(cm)\n",
        "import matplotlib.pyplot as plt\n",
        "\n",
        "plt.imshow(cm, cmap=\"cool\")\n",
        "plt.colorbar()\n",
        "plt.show()"
      ]
    },
    {
      "cell_type": "code",
      "execution_count": null,
      "metadata": {
        "colab": {
          "base_uri": "https://localhost:8080/",
          "height": 234
        },
        "id": "_qGrvcpdAwby",
        "outputId": "9ab94a37-8f6f-493e-900e-e6e85c04d5ed"
      },
      "outputs": [
        {
          "data": {
            "image/png": "[encoded data removed]",
            "text/plain": [
              "<Figure size 200x200 with 2 Axes>"
            ]
          },
          "metadata": {},
          "output_type": "display_data"
        }
      ],
      "source": [
        "from sklearn.metrics import confusion_matrix\n",
        "import seaborn as sns\n",
        "\n",
        "\n",
        "# Normalise\n",
        "cmn = cm.astype('float') / cm.sum(axis=1)[:, np.newaxis]\n",
        "fig, ax = plt.subplots(figsize=(2,2))\n",
        "sns.heatmap(cmn, annot=True, fmt='.2f', xticklabels=(\"no\", \"yes\"), yticklabels=(\"no\", \"yes\"))\n",
        "plt.ylabel('Actual')\n",
        "plt.xlabel('Predicted')\n",
        "plt.show(block=False)\n",
        "\n",
        "#from https://stackoverflow.com/questions/20927368/how-to-normalize-a-confusion-matrix\n",
        "#not sure about this code"
      ]
    },
    {
      "cell_type": "code",
      "execution_count": null,
      "metadata": {
        "id": "_zZKal3uBthR"
      },
      "outputs": [],
      "source": [
        "# K nearest neighbor\n",
        "#not sure how this works with the extra dimenstions. Used only two columns, and the output is weird.\n",
        "#pulled it pretty much right over from the example."
      ]
    },
    {
      "cell_type": "code",
      "execution_count": null,
      "metadata": {
        "id": "7X_7lHMACLKn"
      },
      "outputs": [],
      "source": [
        "import numpy as np\n",
        "import matplotlib.pyplot as plt\n",
        "from matplotlib.colors import ListedColormap\n",
        "from sklearn import neighbors, datasets\n",
        "\n",
        "n_neighbors = 10\n",
        "\n",
        "\n",
        "\n",
        "X = df[[\"loan\", \"default\"]].to_numpy()\n",
        "\n",
        "y = df[\"y\"].to_numpy()\n",
        "\n",
        "\n",
        "\n",
        "h = .01  # step size in the mesh\n",
        "\n",
        "# Create color maps\n",
        "cmap_light = ListedColormap(['orange', 'cyan', 'cornflowerblue'])\n",
        "cmap_bold = ListedColormap(['darkorange', 'c', 'darkblue'])\n",
        "\n"
      ]
    },
    {
      "cell_type": "code",
      "execution_count": null,
      "metadata": {
        "colab": {
          "base_uri": "https://localhost:8080/",
          "height": 245
        },
        "id": "d0DIGSVbC9TS",
        "outputId": "beae61fa-5a5d-4791-94e4-62dc17a6ef7e"
      },
      "outputs": [
        {
          "data": {
            "image/png": "[encoded data removed]",
            "text/plain": [
              "<Figure size 640x480 with 1 Axes>"
            ]
          },
          "metadata": {},
          "output_type": "display_data"
        },
        {
          "data": {
            "image/png": "[encoded data removed]",
            "text/plain": [
              "<Figure size 640x480 with 1 Axes>"
            ]
          },
          "metadata": {},
          "output_type": "display_data"
        }
      ],
      "source": [
        "for weights in [\"uniform\", \"distance\"]:\n",
        "    # we create an instance of Neighbours Classifier and fit the data.\n",
        "    clf = neighbors.KNeighborsClassifier(n_neighbors, weights=weights)\n",
        "    clf.fit(X, y)\n",
        "\n",
        "    # Plot the decision boundary. For that, we will assign a color to each\n",
        "    # point in the mesh [x_min, x_max]x[y_min, y_max].\n",
        "    x_min, x_max = X[:, 0].min() - 1, X[:, 0].max() + 1\n",
        "    y_min, y_max = X[:, 1].min() - 1, X[:, 1].max() + 1\n",
        "    xx, yy = np.meshgrid(np.arange(x_min, x_max, h),\n",
        "                         np.arange(y_min, y_max, h))\n",
        "    Z = clf.predict(np.c_[xx.ravel(), yy.ravel()])\n",
        "\n",
        "    # Put the result into a color plot\n",
        "    Z = Z.reshape(xx.shape)\n",
        "    plt.figure()\n",
        "    plt.pcolormesh(xx, yy, Z, cmap=cmap_light)\n",
        "\n",
        "    # Plot also the training points\n",
        "    plt.scatter(X[:, 0], X[:, 1], c=y, cmap=cmap_bold,\n",
        "                edgecolor='k', s=20)\n",
        "    plt.xlim(xx.min(), xx.max())\n",
        "    plt.ylim(yy.min(), yy.max())\n",
        "    plt.title(\"3-Class classification (k = %i, weights = '%s')\"\n",
        "              % (n_neighbors, weights))\n",
        "\n",
        "plt.show()"
      ]
    },
    {
      "cell_type": "code",
      "execution_count": null,
      "metadata": {
        "id": "ZbLp_NA7Pflg"
      },
      "outputs": [],
      "source": [
        "#not sure what it means here, but of course they'll all be zero or one.  Ended up crashing colab trying this."
      ]
    },
    {
      "cell_type": "code",
      "execution_count": null,
      "metadata": {
        "id": "SnywBU2RPflg",
        "outputId": "31135b1e-c6de-410a-9828-d81b858425c8"
      },
      "outputs": [
        {
          "name": "stdout",
          "output_type": "stream",
          "text": [
            "[[388  18]\n",
            " [ 37  10]]\n"
          ]
        },
        {
          "data": {
            "image/png": "[encoded data removed]",
            "text/plain": [
              "<Figure size 640x480 with 1 Axes>"
            ]
          },
          "metadata": {},
          "output_type": "display_data"
        }
      ],
      "source": [
        "#trying something else\n",
        "\n",
        "from sklearn.neighbors import KNeighborsClassifier\n",
        "\n",
        "# Create a KNeighborsClassifier object\n",
        "clf = KNeighborsClassifier(n_neighbors=5)\n",
        "\n",
        "# Fit the classifier to the training data\n",
        "clf.fit(X_train, y_train)\n",
        "\n",
        "# Predict the labels of the test data\n",
        "y_pred = clf.predict(X_test)\n",
        "\n",
        "# Print the confusion matrix\n",
        "print(confusion_matrix(y_test, y_pred))\n",
        "\n",
        "# Plot the decision boundary\n",
        "plt.figure()\n",
        "plt.scatter(X_train[:, 0], X_train[:, 1], c=y_train, cmap=\"cool\")\n",
        "plt.plot(X_test[:, 0], X_test[:, 1], \"ro\")\n",
        "plt.show()"
      ]
    },
    {
      "cell_type": "code",
      "execution_count": null,
      "metadata": {
        "id": "Etj3EBViPflh"
      },
      "outputs": [],
      "source": [
        "#from https://www.datacamp.com/tutorial/decision-tree-classification-python"
      ]
    },
    {
      "cell_type": "code",
      "execution_count": null,
      "metadata": {
        "id": "r1TPOw0MPflh"
      },
      "outputs": [],
      "source": [
        "# Load libraries\n",
        "import pandas as pd\n",
        "from sklearn.tree import DecisionTreeClassifier # Import Decision Tree Classifier\n",
        "from sklearn.model_selection import train_test_split # Import train_test_split function\n",
        "from sklearn import metrics #Import scikit-learn metrics module for accuracy calculation\n",
        "\n",
        "X = df[[\"age\", \"job\", \"marital\", \"education\", \"default\",\n",
        "            \"balance\",\t\"housing\",\t\"loan\",\t\"contact\",\t\"day\",\n",
        "            \"month\",\t\"duration\",\t\"campaign\",\t\"pdays\",\t\"previous\",\t\"poutcome\"]]\n",
        "y = df[\"y\"]\n",
        "\n",
        "\n",
        "# Split dataset into training set and test set\n",
        "X_train, X_test, y_train, y_test = train_test_split(X, y, test_size=0.1, random_state = 42)\n"
      ]
    },
    {
      "cell_type": "code",
      "execution_count": null,
      "metadata": {
        "id": "ztnVXBfDPflh"
      },
      "outputs": [],
      "source": [
        "# Create Decision Tree classifer object\n",
        "clf = DecisionTreeClassifier()\n",
        "\n",
        "# Train Decision Tree Classifer\n",
        "clf = clf.fit(X_train,y_train)\n",
        "\n",
        "#Predict the response for test dataset\n",
        "y_pred = clf.predict(X_test)\n",
        "\n"
      ]
    },
    {
      "cell_type": "code",
      "execution_count": null,
      "metadata": {
        "id": "gwTTiZC8Pflh",
        "outputId": "7c3c6307-98ac-4c18-e0e9-75068a7d28f3"
      },
      "outputs": [
        {
          "name": "stdout",
          "output_type": "stream",
          "text": [
            "Accuracy: 0.8675496688741722\n"
          ]
        }
      ],
      "source": [
        "# Model Accuracy, how often is the classifier correct?\n",
        "print(\"Accuracy:\",metrics.accuracy_score(y_test, y_pred))\n"
      ]
    },
    {
      "cell_type": "code",
      "execution_count": null,
      "metadata": {
        "id": "6BDzg8WzPflh",
        "outputId": "ce28de26-90ce-4c62-b1ae-e3f18c2d6481"
      },
      "outputs": [
        {
          "name": "stdout",
          "output_type": "stream",
          "text": [
            "Accuracy: 0.891832229580574\n"
          ]
        }
      ],
      "source": [
        "# Create Decision Tree classifer object\n",
        "clf = DecisionTreeClassifier(criterion=\"entropy\", max_depth=5)\n",
        "\n",
        "# Train Decision Tree Classifer\n",
        "clf = clf.fit(X_train,y_train)\n",
        "\n",
        "#Predict the response for test dataset\n",
        "y_pred = clf.predict(X_test)\n",
        "\n",
        "# Model Accuracy, how often is the classifier correct?\n",
        "print(\"Accuracy:\",metrics.accuracy_score(y_test, y_pred))\n",
        "\n",
        "#visualization didn't work - the packages weren't there\n"
      ]
    },
    {
      "cell_type": "code",
      "execution_count": null,
      "metadata": {
        "id": "YqsD2ftOPfli"
      },
      "outputs": [],
      "source": [
        "#SVM from https://www.datacamp.com/tutorial/svm-classification-scikit-learn-python\n",
        "\n",
        "# Import train_test_split function\n",
        "from sklearn.model_selection import train_test_split\n",
        "\n",
        "# Split dataset into training set and test set\n",
        "X_train, X_test, y_train, y_test = train_test_split(arrayX, arrayY, test_size=0.1, random_state = 42)\n"
      ]
    },
    {
      "cell_type": "code",
      "execution_count": null,
      "metadata": {
        "id": "mrcZdHBEPfli"
      },
      "outputs": [],
      "source": [
        "#this one takes forever!\n",
        "\n",
        "#Import svm model\n",
        "from sklearn import svm\n",
        "\n",
        "#Create a svm Classifier\n",
        "clf = svm.SVC(kernel='linear') # Linear Kernel\n",
        "\n",
        "#Train the model using the training sets\n",
        "clf.fit(X_train, y_train)\n",
        "\n",
        "#Predict the response for test dataset\n",
        "y_pred = clf.predict(X_test)\n"
      ]
    },
    {
      "cell_type": "code",
      "execution_count": null,
      "metadata": {
        "id": "DYAC62nTPfli",
        "outputId": "66f24d6e-5ed3-4094-9c4a-7ed78887f3d7"
      },
      "outputs": [
        {
          "name": "stdout",
          "output_type": "stream",
          "text": [
            "Accuracy: 0.8785871964679912\n"
          ]
        }
      ],
      "source": [
        "#Import scikit-learn metrics module for accuracy calculation\n",
        "from sklearn import metrics\n",
        "\n",
        "# Model Accuracy: how often is the classifier correct?\n",
        "print(\"Accuracy:\",metrics.accuracy_score(y_test, y_pred))\n",
        "\n",
        "#the fitting took forever!\n"
      ]
    },
    {
      "cell_type": "code",
      "execution_count": null,
      "metadata": {
        "id": "A1b7j-awPfli",
        "outputId": "7e404466-855e-419a-91c6-fd51794379c2"
      },
      "outputs": [
        {
          "name": "stdout",
          "output_type": "stream",
          "text": [
            "Precision: 0.375\n",
            "Recall: 0.2553191489361702\n"
          ]
        }
      ],
      "source": [
        "# Model Precision: what percentage of positive tuples are labeled as such?\n",
        "print(\"Precision:\",metrics.precision_score(y_test, y_pred))\n",
        "\n",
        "# Model Recall: what percentage of positive tuples are labelled as such?\n",
        "print(\"Recall:\",metrics.recall_score(y_test, y_pred))\n"
      ]
    },
    {
      "cell_type": "code",
      "execution_count": null,
      "metadata": {
        "id": "ZTAHJ2KKPfli",
        "outputId": "6c0d395a-5c6f-47e2-c39d-743fbae258f0"
      },
      "outputs": [
        {
          "name": "stdout",
          "output_type": "stream",
          "text": [
            "LR: 0.887906 (0.020419)\n",
            "[[398   8]\n",
            " [ 39   8]]\n",
            "KNN: 0.873160 (0.020369)\n",
            "[[388  18]\n",
            " [ 37  10]]\n",
            "CART: 0.862835 (0.015937)\n",
            "[[368  38]\n",
            " [ 29  18]]\n",
            "Linear: 0.839253 (0.057837)\n",
            "[[405   1]\n",
            " [ 47   0]]\n",
            "SVM: 0.883240 (0.017765)\n",
            "[[406   0]\n",
            " [ 47   0]]\n"
          ]
        }
      ],
      "source": [
        "# multiple models\n",
        "\n",
        "import sklearn\n",
        "from sklearn.svm import LinearSVC\n",
        "import warnings\n",
        "warnings.filterwarnings('ignore')\n",
        "from sklearn.metrics import confusion_matrix\n",
        "from sklearn.svm import SVC\n",
        "from sklearn.neighbors import KNeighborsClassifier\n",
        "\n",
        "X_train, X_test, y_train, y_test = train_test_split(arrayX, arrayY, test_size=0.1, random_state = 42)\n",
        "\n",
        "\n",
        "models = []\n",
        "models.append((\"LR\", LogisticRegression(solver = \"lbfgs\", max_iter = 100000)))\n",
        "models.append((\"KNN\", sklearn.neighbors.KNeighborsClassifier(n_neighbors=5)))\n",
        "models.append((\"CART\", DecisionTreeClassifier()))\n",
        "models.append((\"Linear\", LinearSVC()))\n",
        "## pulled out the bayes from the example\n",
        "models.append((\"SVM\", SVC()))\n",
        "\n",
        "#model evaluation in turn\n",
        "\n",
        "results = []\n",
        "names = []\n",
        "for name, model in models:\n",
        "    kfold = model_selection.KFold(n_splits = 10, shuffle = False)\n",
        "    cv_results = model_selection.cross_val_score(model, X_train, y_train, cv=kfold, scoring = \"accuracy\")\n",
        "    model.fit(X_train, y_train)\n",
        "    y_pred=model.predict(X_test)\n",
        "    cm = confusion_matrix(y_test, y_pred)\n",
        "    results.append(cv_results)\n",
        "    names.append(name)\n",
        "    msg = \"%s: %f (%f)\" % (name, cv_results.mean(), cv_results.std())\n",
        "    print(msg)\n",
        "    print(cm)"
      ]
    },
    {
      "cell_type": "code",
      "execution_count": null,
      "metadata": {
        "id": "S5T-gvJePfli"
      },
      "outputs": [],
      "source": [
        "#tomorrow, see if I can generalize the confusion matrices. Can't figure it out in the loop."
      ]
    },
    {
      "cell_type": "code",
      "execution_count": null,
      "metadata": {
        "id": "5djrks6-Pflj",
        "outputId": "e6ef1326-5594-4006-a269-6123e4d770b7"
      },
      "outputs": [
        {
          "name": "stdout",
          "output_type": "stream",
          "text": [
            "Accuracy: 0.891832229580574\n",
            "[[402   4]\n",
            " [ 45   2]]\n"
          ]
        }
      ],
      "source": [
        "#Linear, from https://www.datacamp.com/tutorial/understanding-logistic-regression-python\n",
        "\n",
        "\n",
        "# Fit the model to the training set\n",
        "model = LinearSVC()\n",
        "model.fit(X_train, y_train)\n",
        "\n",
        "# Evaluate the model on the test set\n",
        "y_pred = model.predict(X_test)\n",
        "accuracy = np.mean(y_pred == y_test)\n",
        "print('Accuracy:', accuracy)\n",
        "cm = confusion_matrix(y_test, y_pred)\n",
        "print(cm)"
      ]
    },
    {
      "cell_type": "code",
      "execution_count": null,
      "metadata": {
        "id": "jX17rGv_Pflj",
        "outputId": "dfafc6c4-8fe1-456c-f148-0a956b6b3615"
      },
      "outputs": [
        {
          "name": "stdout",
          "output_type": "stream",
          "text": [
            "Accuracy: 0.8785871964679912\n",
            "[[388  18]\n",
            " [ 37  10]]\n"
          ]
        }
      ],
      "source": [
        "## KNN\n",
        "\n",
        "# Fit the model to the training set\n",
        "model = sklearn.neighbors.KNeighborsClassifier(n_neighbors=5)\n",
        "model.fit(X_train, y_train)\n",
        "\n",
        "# Evaluate the model on the test set\n",
        "y_pred = model.predict(X_test)\n",
        "accuracy = np.mean(y_pred == y_test)\n",
        "print('Accuracy:', accuracy)\n",
        "cm = confusion_matrix(y_test, y_pred)\n",
        "print(cm)"
      ]
    },
    {
      "cell_type": "code",
      "execution_count": null,
      "metadata": {
        "id": "_Efya6gRPflj",
        "outputId": "853ccaff-c053-4ff2-d96f-ca53da6d6d6f"
      },
      "outputs": [
        {
          "name": "stdout",
          "output_type": "stream",
          "text": [
            "Accuracy: 0.8962472406181016\n",
            "[[398   8]\n",
            " [ 39   8]]\n"
          ]
        }
      ],
      "source": [
        "#logistic\n",
        "\n",
        "model = LogisticRegression(solver = \"lbfgs\", max_iter = 100000)\n",
        "model.fit(X_train, y_train)\n",
        "\n",
        "# Evaluate the model on the test set\n",
        "y_pred = model.predict(X_test)\n",
        "accuracy = np.mean(y_pred == y_test)\n",
        "print('Accuracy:', accuracy)\n",
        "cm = confusion_matrix(y_test, y_pred)\n",
        "print(cm)\n"
      ]
    },
    {
      "cell_type": "code",
      "execution_count": null,
      "metadata": {
        "id": "U9hE6FDUPflj",
        "outputId": "435b61a0-241b-4796-a789-908205242ea7"
      },
      "outputs": [
        {
          "name": "stdout",
          "output_type": "stream",
          "text": [
            "Accuracy: 0.8741721854304636\n",
            "[[377  29]\n",
            " [ 28  19]]\n"
          ]
        }
      ],
      "source": [
        "#Decision Tree\n",
        "\n",
        "model = DecisionTreeClassifier()\n",
        "model.fit(X_train, y_train)\n",
        "\n",
        "# Evaluate the model on the test set\n",
        "y_pred = model.predict(X_test)\n",
        "accuracy = np.mean(y_pred == y_test)\n",
        "print('Accuracy:', accuracy)\n",
        "cm = confusion_matrix(y_test, y_pred)\n",
        "print(cm)"
      ]
    },
    {
      "cell_type": "code",
      "execution_count": null,
      "metadata": {
        "id": "6NxYaMx0Pflj",
        "outputId": "8ca13acf-57d4-49e1-a761-18381580daec"
      },
      "outputs": [
        {
          "name": "stdout",
          "output_type": "stream",
          "text": [
            "Accuracy: 0.8962472406181016\n",
            "[[406   0]\n",
            " [ 47   0]]\n"
          ]
        }
      ],
      "source": [
        "#svm\n",
        "\n",
        "model = SVC()\n",
        "model.fit(X_train, y_train)\n",
        "\n",
        "# Evaluate the model on the test set\n",
        "y_pred = model.predict(X_test)\n",
        "accuracy = np.mean(y_pred == y_test)\n",
        "print('Accuracy:', accuracy)\n",
        "cm = confusion_matrix(y_test, y_pred)\n",
        "print(cm)"
      ]
    },
    {
      "cell_type": "code",
      "execution_count": null,
      "metadata": {
        "id": "TLZuEQl-Pflj",
        "outputId": "d6960cb1-8a06-456b-98d5-31d5ac23d6d8"
      },
      "outputs": [
        {
          "name": "stdout",
          "output_type": "stream",
          "text": [
            "LR: 0.883240 (0.017765)\n",
            "[[406   0]\n",
            " [ 47   0]]\n"
          ]
        }
      ],
      "source": [
        "#Breaking out the loop\n",
        "\n",
        "model = SVC()\n",
        "model.fit(X_train, y_train)\n",
        "\n",
        "kfold = model_selection.KFold(n_splits = 10, shuffle = False)\n",
        "cv_results = model_selection.cross_val_score(model, X_train, y_train, cv=kfold, scoring = \"accuracy\")\n",
        "y_pred = model.predict(X_test)\n",
        "msg = \"%s: %f (%f)\" % (name, cv_results.mean(), cv_results.std())\n",
        "cm = confusion_matrix(y_test, y_pred)\n",
        "print(msg)\n",
        "print(cm)"
      ]
    }
  ],
  "metadata": {
    "colab": {
      "provenance": [],
      "include_colab_link": true
    },
    "kernelspec": {
      "display_name": "Python 3 (ipykernel)",
      "language": "python",
      "name": "python3"
    },
    "language_info": {
      "codemirror_mode": {
        "name": "ipython",
        "version": 3
      },
      "file_extension": ".py",
      "mimetype": "text/x-python",
      "name": "python",
      "nbconvert_exporter": "python",
      "pygments_lexer": "ipython3",
      "version": "3.11.4"
    }
  },
  "nbformat": 4,
  "nbformat_minor": 0
}