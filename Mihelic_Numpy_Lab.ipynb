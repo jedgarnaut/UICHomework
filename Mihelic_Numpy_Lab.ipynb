{
  "nbformat": 4,
  "nbformat_minor": 0,
  "metadata": {
    "colab": {
      "provenance": [],
      "authorship_tag": "ABX9TyNuGu8Ng9x3X+B986Ge6zEB",
      "include_colab_link": true
    },
    "kernelspec": {
      "name": "python3",
      "display_name": "Python 3"
    },
    "language_info": {
      "name": "python"
    }
  },
  "cells": [
    {
      "cell_type": "markdown",
      "metadata": {
        "id": "view-in-github",
        "colab_type": "text"
      },
      "source": [
        "<a href=\"https://colab.research.google.com/github/jedgarnaut/UICHomework/blob/main/Mihelic_Numpy_Lab.ipynb\" target=\"_parent\"><img src=\"https://colab.research.google.com/assets/colab-badge.svg\" alt=\"Open In Colab\"/></a>"
      ]
    },
    {
      "cell_type": "code",
      "execution_count": 49,
      "metadata": {
        "id": "fliuYJqL1rcP"
      },
      "outputs": [],
      "source": [
        "import numpy as np"
      ]
    },
    {
      "cell_type": "code",
      "source": [
        "import pandas as pd\n",
        "import random as random"
      ],
      "metadata": {
        "id": "bl1bjHcz10vG"
      },
      "execution_count": 50,
      "outputs": []
    },
    {
      "cell_type": "markdown",
      "source": [
        "## Q1.\n",
        "\n",
        "1. Randomly generate a 2*2 matrix and return the minimum value of x along the second axis.\n",
        "2. Randomly generate a 2*5 matrix and calculate the difference between the maximum and the minimum of x along the second axis.\n",
        "3. Randomly generate a 2*3 matrix and get the values and indices of the elements that are bigger than 2 in x.\n"
      ],
      "metadata": {
        "id": "rWhdX9lT19xW"
      }
    },
    {
      "cell_type": "code",
      "source": [
        "## Randomly generate a 2*2 matrix and return the minimum value of x along the second axis."
      ],
      "metadata": {
        "id": "D0wQSZf722u6"
      },
      "execution_count": 51,
      "outputs": []
    },
    {
      "cell_type": "code",
      "source": [
        "y = np.random.random((2,2))"
      ],
      "metadata": {
        "id": "SaC8w3B_5SYq"
      },
      "execution_count": 52,
      "outputs": []
    },
    {
      "cell_type": "code",
      "source": [
        "y"
      ],
      "metadata": {
        "colab": {
          "base_uri": "https://localhost:8080/"
        },
        "id": "ywuLOovl5Xjk",
        "outputId": "e72ac3a9-24bf-45b3-806b-574b7c6677e9"
      },
      "execution_count": 53,
      "outputs": [
        {
          "output_type": "execute_result",
          "data": {
            "text/plain": [
              "array([[0.14698009, 0.30475508],\n",
              "       [0.12173328, 0.30356013]])"
            ]
          },
          "metadata": {},
          "execution_count": 53
        }
      ]
    },
    {
      "cell_type": "code",
      "source": [
        "y.min(axis=1)"
      ],
      "metadata": {
        "colab": {
          "base_uri": "https://localhost:8080/"
        },
        "id": "oAXcdwoc5ffA",
        "outputId": "528b3088-68e0-4a28-dbd4-ae05d1b4e1bd"
      },
      "execution_count": 54,
      "outputs": [
        {
          "output_type": "execute_result",
          "data": {
            "text/plain": [
              "array([0.14698009, 0.12173328])"
            ]
          },
          "metadata": {},
          "execution_count": 54
        }
      ]
    },
    {
      "cell_type": "code",
      "source": [
        "np.argmin(y)"
      ],
      "metadata": {
        "colab": {
          "base_uri": "https://localhost:8080/"
        },
        "id": "0D4AlMov7Ss5",
        "outputId": "76a88e2b-3ac9-4ce0-ae42-76460d0e9b75"
      },
      "execution_count": 55,
      "outputs": [
        {
          "output_type": "execute_result",
          "data": {
            "text/plain": [
              "2"
            ]
          },
          "metadata": {},
          "execution_count": 55
        }
      ]
    },
    {
      "cell_type": "code",
      "source": [
        "## Randomly generate a 2*5 matrix and calculate the difference between the maximum and the minimum of x along the second axis."
      ],
      "metadata": {
        "id": "WkxfdHxX22_x"
      },
      "execution_count": 9,
      "outputs": []
    },
    {
      "cell_type": "code",
      "source": [
        "z = np.random.randint(1,13,(2,5))"
      ],
      "metadata": {
        "id": "FoRzgolM7vFy"
      },
      "execution_count": 56,
      "outputs": []
    },
    {
      "cell_type": "code",
      "source": [
        "z"
      ],
      "metadata": {
        "colab": {
          "base_uri": "https://localhost:8080/"
        },
        "id": "ytmYj5sv8JuU",
        "outputId": "7e2cca97-ca65-489d-ad50-6bc3d1274898"
      },
      "execution_count": 57,
      "outputs": [
        {
          "output_type": "execute_result",
          "data": {
            "text/plain": [
              "array([[ 5, 11,  9,  3,  7],\n",
              "       [ 7,  4, 12,  4,  4]])"
            ]
          },
          "metadata": {},
          "execution_count": 57
        }
      ]
    },
    {
      "cell_type": "code",
      "source": [
        "a = z.max(axis = 1)-z.min(axis = 1)"
      ],
      "metadata": {
        "id": "CGZ9q7b38T6m"
      },
      "execution_count": 58,
      "outputs": []
    },
    {
      "cell_type": "code",
      "source": [
        "a"
      ],
      "metadata": {
        "colab": {
          "base_uri": "https://localhost:8080/"
        },
        "id": "XAvSoWAb8fUN",
        "outputId": "64728de2-3533-47d6-b7fc-c73d32c005b9"
      },
      "execution_count": 59,
      "outputs": [
        {
          "output_type": "execute_result",
          "data": {
            "text/plain": [
              "array([8, 8])"
            ]
          },
          "metadata": {},
          "execution_count": 59
        }
      ]
    },
    {
      "cell_type": "code",
      "source": [
        "#Checking the first axis\n",
        "c = z.max(axis = 0)-z.min(axis = 0)\n",
        "print(c)\n"
      ],
      "metadata": {
        "colab": {
          "base_uri": "https://localhost:8080/"
        },
        "id": "7KPb8XCM8pan",
        "outputId": "f8124918-6c01-49de-df52-7bf502a432dd"
      },
      "execution_count": 60,
      "outputs": [
        {
          "output_type": "stream",
          "name": "stdout",
          "text": [
            "[2 7 3 1 3]\n"
          ]
        }
      ]
    },
    {
      "cell_type": "code",
      "source": [
        "## Randomly generate a 2*3 matrix and get the values and indices of the elements that are bigger than 2 in x."
      ],
      "metadata": {
        "id": "vJpSZmTt23vf"
      },
      "execution_count": 15,
      "outputs": []
    },
    {
      "cell_type": "code",
      "source": [
        "z = np.random.randint(0,10,(2,3))\n",
        "print(z)"
      ],
      "metadata": {
        "colab": {
          "base_uri": "https://localhost:8080/"
        },
        "id": "8-faNsWc9EQG",
        "outputId": "32199b26-da97-4725-e582-b5088a55e2ea"
      },
      "execution_count": 61,
      "outputs": [
        {
          "output_type": "stream",
          "name": "stdout",
          "text": [
            "[[4 2 8]\n",
            " [7 5 5]]\n"
          ]
        }
      ]
    },
    {
      "cell_type": "code",
      "source": [
        "greater = np.where(z > 2, z, \"Less than 2\")\n",
        "print(greater)"
      ],
      "metadata": {
        "colab": {
          "base_uri": "https://localhost:8080/"
        },
        "id": "I0qih1TM9O-z",
        "outputId": "67f371e4-7aa9-4ad7-a7f4-3b63f7ed31a5"
      },
      "execution_count": 62,
      "outputs": [
        {
          "output_type": "stream",
          "name": "stdout",
          "text": [
            "[['4' 'Less than 2' '8']\n",
            " ['7' '5' '5']]\n"
          ]
        }
      ]
    },
    {
      "cell_type": "code",
      "source": [
        "z>2"
      ],
      "metadata": {
        "id": "FHpTfzYF_ufA",
        "outputId": "289b4170-1490-4f60-d039-fd0b9e67a4af",
        "colab": {
          "base_uri": "https://localhost:8080/"
        }
      },
      "execution_count": 63,
      "outputs": [
        {
          "output_type": "execute_result",
          "data": {
            "text/plain": [
              "array([[ True, False,  True],\n",
              "       [ True,  True,  True]])"
            ]
          },
          "metadata": {},
          "execution_count": 63
        }
      ]
    },
    {
      "cell_type": "markdown",
      "source": [
        "## Q2.\n",
        "\n",
        "1. Randomly generate a vector and draw corresponding histogram\n",
        "2. Randomly generate two vectors and draw scatter plot"
      ],
      "metadata": {
        "id": "BeVMhRDh3FP7"
      }
    },
    {
      "cell_type": "code",
      "source": [
        "##  Randomly generate a vector and draw corresponding histogram"
      ],
      "metadata": {
        "id": "Iu49zmAB3JlB"
      },
      "execution_count": 19,
      "outputs": []
    },
    {
      "cell_type": "code",
      "source": [
        "import matplotlib.pyplot as plt\n",
        "import numpy as np\n"
      ],
      "metadata": {
        "id": "LcYAfo58FZi-"
      },
      "execution_count": 121,
      "outputs": []
    },
    {
      "cell_type": "code",
      "source": [
        "k = np.random.randint(1,10, 12)\n",
        "\n",
        "print(k)\n",
        "\n",
        "l = k.astype(float)\n",
        "\n",
        "print(l)\n",
        "bins2 = np.array([0., 4., 8., 12.])\n",
        "\n",
        "print(\"ans=\\n\", np.histogram(l, bins2, density = True))\n"
      ],
      "metadata": {
        "colab": {
          "base_uri": "https://localhost:8080/"
        },
        "id": "sqb-Hz60M0i7",
        "outputId": "75f038a0-d3d2-4287-a34e-55efc2cb73ba"
      },
      "execution_count": 160,
      "outputs": [
        {
          "output_type": "stream",
          "name": "stdout",
          "text": [
            "[9 3 8 4 6 4 7 9 9 8 7 1]\n",
            "[9. 3. 8. 4. 6. 4. 7. 9. 9. 8. 7. 1.]\n",
            "ans=\n",
            " (array([0.04166667, 0.10416667, 0.10416667]), array([ 0.,  4.,  8., 12.]))\n"
          ]
        }
      ]
    },
    {
      "cell_type": "code",
      "source": [
        "plt.hist(l, bins = bins2, density = True, stacked = True)\n",
        "plt.show() #it was all about how I was generating the random array, messing that up"
      ],
      "metadata": {
        "colab": {
          "base_uri": "https://localhost:8080/",
          "height": 430
        },
        "id": "6KAmyadoGdd0",
        "outputId": "f155f9e1-6578-422a-eb13-db4209917f91"
      },
      "execution_count": 161,
      "outputs": [
        {
          "output_type": "display_data",
          "data": {
            "text/plain": [
              "<Figure size 640x480 with 1 Axes>"
            ],
            "image/png": "[encoded data removed]"
          },
          "metadata": {}
        }
      ]
    },
    {
      "cell_type": "code",
      "source": [
        "l.dtype"
      ],
      "metadata": {
        "colab": {
          "base_uri": "https://localhost:8080/"
        },
        "id": "QdBTvKYJG6lr",
        "outputId": "3908883d-b421-4c53-e755-216bddc5fdc5"
      },
      "execution_count": 162,
      "outputs": [
        {
          "output_type": "execute_result",
          "data": {
            "text/plain": [
              "dtype('float64')"
            ]
          },
          "metadata": {},
          "execution_count": 162
        }
      ]
    },
    {
      "cell_type": "code",
      "source": [
        "#something is goofy and I can't figure out the y axis.\n",
        "#trying the exact code from the example in lecture\n",
        "\n",
        "import matplotlib.pyplot as plt\n",
        "import numpy as np\n",
        "\n",
        "x = np.array([0.5, 0.7, 1.0, 1.2, 1.3, 2.1])\n",
        "bins1 = np.array([0,1,2,3])\n",
        "print(\"ans=\\n\", np.histogram(x, bins1))"
      ],
      "metadata": {
        "colab": {
          "base_uri": "https://localhost:8080/"
        },
        "id": "gpk7e_qgKmY8",
        "outputId": "df84c6fc-7e1b-44a6-ec4f-7c37c3e429b4"
      },
      "execution_count": 163,
      "outputs": [
        {
          "output_type": "stream",
          "name": "stdout",
          "text": [
            "ans=\n",
            " (array([2, 3, 1]), array([0, 1, 2, 3]))\n"
          ]
        }
      ]
    },
    {
      "cell_type": "code",
      "source": [
        "plt.hist(x, bins = bins1) #this looks right, no clue what's going on with the other one."
      ],
      "metadata": {
        "colab": {
          "base_uri": "https://localhost:8080/",
          "height": 482
        },
        "id": "khuGBt0NLjCk",
        "outputId": "18a139cd-4db7-43ff-edf0-d0d236c88598"
      },
      "execution_count": 164,
      "outputs": [
        {
          "output_type": "execute_result",
          "data": {
            "text/plain": [
              "(array([2., 3., 1.]),\n",
              " array([0., 1., 2., 3.]),\n",
              " <BarContainer object of 3 artists>)"
            ]
          },
          "metadata": {},
          "execution_count": 164
        },
        {
          "output_type": "display_data",
          "data": {
            "text/plain": [
              "<Figure size 640x480 with 1 Axes>"
            ],
            "image/png": "[encoded data removed]"
          },
          "metadata": {}
        }
      ]
    },
    {
      "cell_type": "code",
      "source": [
        "plt.hist(k) #no clue why this isn't working\n"
      ],
      "metadata": {
        "colab": {
          "base_uri": "https://localhost:8080/",
          "height": 482
        },
        "id": "w2Lejv3qXzdL",
        "outputId": "3ec8cb4d-bb97-4de7-9593-f1a7ee2b66f5"
      },
      "execution_count": 165,
      "outputs": [
        {
          "output_type": "execute_result",
          "data": {
            "text/plain": [
              "(array([1., 0., 1., 2., 0., 0., 1., 2., 2., 3.]),\n",
              " array([1. , 1.8, 2.6, 3.4, 4.2, 5. , 5.8, 6.6, 7.4, 8.2, 9. ]),\n",
              " <BarContainer object of 10 artists>)"
            ]
          },
          "metadata": {},
          "execution_count": 165
        },
        {
          "output_type": "display_data",
          "data": {
            "text/plain": [
              "<Figure size 640x480 with 1 Axes>"
            ],
            "image/png": "[encoded data removed]"
          },
          "metadata": {}
        }
      ]
    },
    {
      "cell_type": "code",
      "source": [
        "## Randomly generate two vectors and draw scatter plot"
      ],
      "metadata": {
        "id": "Ta2__FJD3L7B"
      },
      "execution_count": 28,
      "outputs": []
    },
    {
      "cell_type": "code",
      "source": [
        "import matplotlib.pyplot as plt\n",
        "import numpy as np\n",
        "z = np.random.randint(1,10, 12)\n",
        "w = np.random.randint(1,10, 12)\n",
        "x = z.astype(float)\n",
        "y = w.astype(float)\n",
        "print(z, w)\n",
        "print(x, y)"
      ],
      "metadata": {
        "colab": {
          "base_uri": "https://localhost:8080/"
        },
        "id": "tLS_vnVTGcjO",
        "outputId": "84a5e41d-8bad-4329-9d44-72e183126fd5"
      },
      "execution_count": 167,
      "outputs": [
        {
          "output_type": "stream",
          "name": "stdout",
          "text": [
            "[2 8 7 7 8 3 7 9 2 8 8 4] [6 5 3 6 3 7 6 7 5 7 3 7]\n",
            "[2. 8. 7. 7. 8. 3. 7. 9. 2. 8. 8. 4.] [6. 5. 3. 6. 3. 7. 6. 7. 5. 7. 3. 7.]\n"
          ]
        }
      ]
    },
    {
      "cell_type": "code",
      "source": [
        "xedges = [0,1,2,3,4,5,6,7,8,9,10]\n",
        "yedges = [0,1,2,3,4,5,6,7,8,9,10]"
      ],
      "metadata": {
        "id": "yb4jf_Txat5y"
      },
      "execution_count": 173,
      "outputs": []
    },
    {
      "cell_type": "code",
      "source": [
        "H, xedges, yedges = np.histogram2d(x, y, bins = (xedges, yedges))\n",
        "print(\"ans=\\n\", H)\n",
        "\n",
        "plt.scatter(x,y)\n",
        "plt.grid()\n",
        "plt.show"
      ],
      "metadata": {
        "colab": {
          "base_uri": "https://localhost:8080/",
          "height": 638
        },
        "id": "SlI6TyevZlc5",
        "outputId": "ef5d5b59-2463-4216-db58-a8189c37d545"
      },
      "execution_count": 175,
      "outputs": [
        {
          "output_type": "stream",
          "name": "stdout",
          "text": [
            "ans=\n",
            " [[0. 0. 0. 0. 0. 0. 0. 0. 0. 0.]\n",
            " [0. 0. 0. 0. 0. 0. 0. 0. 0. 0.]\n",
            " [0. 0. 0. 0. 0. 1. 1. 0. 0. 0.]\n",
            " [0. 0. 0. 0. 0. 0. 0. 1. 0. 0.]\n",
            " [0. 0. 0. 0. 0. 0. 0. 1. 0. 0.]\n",
            " [0. 0. 0. 0. 0. 0. 0. 0. 0. 0.]\n",
            " [0. 0. 0. 0. 0. 0. 0. 0. 0. 0.]\n",
            " [0. 0. 0. 1. 0. 0. 2. 0. 0. 0.]\n",
            " [0. 0. 0. 2. 0. 1. 0. 1. 0. 0.]\n",
            " [0. 0. 0. 0. 0. 0. 0. 1. 0. 0.]]\n"
          ]
        },
        {
          "output_type": "execute_result",
          "data": {
            "text/plain": [
              "<function matplotlib.pyplot.show(close=None, block=None)>"
            ]
          },
          "metadata": {},
          "execution_count": 175
        },
        {
          "output_type": "display_data",
          "data": {
            "text/plain": [
              "<Figure size 640x480 with 1 Axes>"
            ],
            "image/png": "[encoded data removed]"
          },
          "metadata": {}
        }
      ]
    },
    {
      "cell_type": "markdown",
      "source": [
        "## Q3.\n",
        "\n",
        "Predict the output of the following code:  \n",
        "\n",
        "x = [1,2]\n",
        "y = [[4, 1], [2, 2]]\n",
        "print(np.dot(x, y))\n",
        "print(np.dot(y, x))\n",
        "print(np.inner(x, y))\n",
        "print(np.inner(y, x)\n",
        "\n",
        "And type it in Python to see if they match your prediction"
      ],
      "metadata": {
        "id": "91xUM36f3QYV"
      }
    },
    {
      "cell_type": "code",
      "source": [
        "#I reviewd linear algebra today and I think the dot produst is commutative so the first two will be the same.\n",
        "#Not sure about the second two. Might be different, or throw an error.\n",
        "\n",
        "x = [1,2]\n",
        "y = [[4, 1], [2, 2]]\n",
        "print(np.dot(x, y))\n",
        "print(np.dot(y, x))\n",
        "print(np.inner(x, y))\n",
        "print(np.inner(y, x))\n"
      ],
      "metadata": {
        "colab": {
          "base_uri": "https://localhost:8080/"
        },
        "id": "iduI_Zze3gFx",
        "outputId": "62eb9907-e3ab-4fa2-f478-da21baab47f1"
      },
      "execution_count": 26,
      "outputs": [
        {
          "output_type": "stream",
          "name": "stdout",
          "text": [
            "[8 5]\n",
            "[6 6]\n",
            "[6 6]\n",
            "[6 6]\n"
          ]
        }
      ]
    },
    {
      "cell_type": "code",
      "source": [
        "#I guess It's been too long sice I took anything with linear algebra, Hope it's not too important in data analytics!\n",
        "# I'm still not sure: https://stackoverflow.com/questions/11033573/difference-between-numpy-dot-and-inner\n"
      ],
      "metadata": {
        "id": "XFKo8ul7460Y"
      },
      "execution_count": 27,
      "outputs": []
    },
    {
      "cell_type": "markdown",
      "source": [
        "## Q4.\n",
        "\n",
        " Curve fitting for a sin function. First of all, randomly generate a dataset following sin function (you can refer to the code below for the generation of such a simulated dataset. You can change the parameter values in this data generation process).\n",
        "\n",
        " x_data = np.linspace(-5, 5, num=50) y_data = 2.9 * np.sin(1.5 * x_data) + np.random.normal(size=50)\n",
        "\n",
        " plot this dataset using scatter plot. Then use curve_fit function in numpy to fit a sin function specified below:  𝑦=𝑎∙𝑆𝑖𝑛(𝑏∙𝑥).\n",
        "\n",
        " Here 𝑎 and 𝑏 are the two parameter we want to estimate using curve_fit."
      ],
      "metadata": {
        "id": "YX-qSRmc3oWs"
      }
    },
    {
      "cell_type": "code",
      "source": [
        " x_data = np.linspace(-5, 5, num=50)\n",
        " y_data = 2.9 * np.sin(1.5 * x_data) + np.random.normal(size=50)\n"
      ],
      "metadata": {
        "id": "ekX125jG3z0A"
      },
      "execution_count": 177,
      "outputs": []
    },
    {
      "cell_type": "code",
      "source": [
        "QFour = np.histogram2d(x_data, y_data)\n",
        "\n",
        "plt.scatter(x_data,y_data)\n",
        "plt.grid()\n",
        "plt.show"
      ],
      "metadata": {
        "colab": {
          "base_uri": "https://localhost:8080/",
          "height": 447
        },
        "id": "dLRIHqtfdZy6",
        "outputId": "3c72fa01-4bdf-4c6f-fb5d-3e9c42da2073"
      },
      "execution_count": 179,
      "outputs": [
        {
          "output_type": "execute_result",
          "data": {
            "text/plain": [
              "<function matplotlib.pyplot.show(close=None, block=None)>"
            ]
          },
          "metadata": {},
          "execution_count": 179
        },
        {
          "output_type": "display_data",
          "data": {
            "text/plain": [
              "<Figure size 640x480 with 1 Axes>"
            ],
            "image/png": "[encoded data removed]"
          },
          "metadata": {}
        }
      ]
    },
    {
      "cell_type": "code",
      "source": [
        "from scipy.optimize import *\n",
        "\n",
        "# 𝑦=𝑎∙𝑆𝑖𝑛(𝑏∙𝑥)\n",
        "\n",
        "\n",
        "def sinfun(x, a, b):\n",
        "  return a*(np.sin(b*x))\n"
      ],
      "metadata": {
        "id": "QuVe9RZvd3aB"
      },
      "execution_count": 190,
      "outputs": []
    },
    {
      "cell_type": "code",
      "source": [
        "attributes, variances = curve_fit(sinfun, x_data, y_data)\n",
        "\n",
        "y_modeled = x_data*attributes[0]+attributes[1]"
      ],
      "metadata": {
        "id": "IUnJldd3eG6h"
      },
      "execution_count": 191,
      "outputs": []
    },
    {
      "cell_type": "code",
      "source": [
        "plt.plot(x_data, y_data, \"ob\", markersize = 2)\n",
        "plt.plot(x_data, sinfun(x_data, *attributes), \"-r\", linewidth = 1)\n",
        "plt.show()"
      ],
      "metadata": {
        "colab": {
          "base_uri": "https://localhost:8080/",
          "height": 430
        },
        "id": "n7vCzEmwftrY",
        "outputId": "30d73bed-745c-4e4d-b05f-b9292bceccde"
      },
      "execution_count": 193,
      "outputs": [
        {
          "output_type": "display_data",
          "data": {
            "text/plain": [
              "<Figure size 640x480 with 1 Axes>"
            ],
            "image/png": "[encoded data removed]"
          },
          "metadata": {}
        }
      ]
    },
    {
      "cell_type": "code",
      "source": [],
      "metadata": {
        "id": "Pgsj2j81f2cX"
      },
      "execution_count": null,
      "outputs": []
    }
  ]
}